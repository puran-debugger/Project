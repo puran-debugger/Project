{
 "cells": [
  {
   "cell_type": "markdown",
   "metadata": {},
   "source": [
    "@ Puran Zhang\n",
    "### Create MySQL Database"
   ]
  },
  {
   "cell_type": "code",
   "execution_count": 1,
   "metadata": {
    "ExecuteTime": {
     "end_time": "2020-08-27T21:57:05.685090Z",
     "start_time": "2020-08-27T21:57:05.654739Z"
    }
   },
   "outputs": [],
   "source": [
    "import mysql.connector\n",
    "import re "
   ]
  },
  {
   "cell_type": "code",
   "execution_count": 2,
   "metadata": {
    "ExecuteTime": {
     "end_time": "2020-08-27T21:57:05.703353Z",
     "start_time": "2020-08-27T21:57:05.687014Z"
    }
   },
   "outputs": [],
   "source": [
    "conn= mysql.connector.connect(\n",
    "    host = 'localhost',\n",
    "    user = 'root',\n",
    "    password = 'adminadmin' \n",
    "          )"
   ]
  },
  {
   "cell_type": "code",
   "execution_count": 3,
   "metadata": {
    "ExecuteTime": {
     "end_time": "2020-08-27T21:57:05.708319Z",
     "start_time": "2020-08-27T21:57:05.705427Z"
    }
   },
   "outputs": [],
   "source": [
    "cursor = conn.cursor()"
   ]
  },
  {
   "cell_type": "code",
   "execution_count": 4,
   "metadata": {
    "ExecuteTime": {
     "end_time": "2020-08-27T21:57:05.713533Z",
     "start_time": "2020-08-27T21:57:05.709848Z"
    }
   },
   "outputs": [],
   "source": [
    "cursor = conn.cursor()\n",
    "cursor.execute('SHOW DATABASES')"
   ]
  },
  {
   "cell_type": "code",
   "execution_count": 5,
   "metadata": {
    "ExecuteTime": {
     "end_time": "2020-08-27T21:57:05.719611Z",
     "start_time": "2020-08-27T21:57:05.714727Z"
    }
   },
   "outputs": [
    {
     "name": "stdout",
     "output_type": "stream",
     "text": [
      "database vocab exists\n"
     ]
    }
   ],
   "source": [
    "found = False\n",
    "for db in cursor:\n",
    "    pattern = \"[(,')]\"\n",
    "    db_string = re.sub(pattern, '', str(db))\n",
    "    if (db_string == 'vocab'):\n",
    "        found = True\n",
    "        print('database vocab exists')\n",
    "if (not found):\n",
    "    cursor.execute('CREATE DATABASE vocab')"
   ]
  },
  {
   "cell_type": "markdown",
   "metadata": {},
   "source": [
    "### Populate the Database Table using Insert"
   ]
  },
  {
   "cell_type": "code",
   "execution_count": 6,
   "metadata": {
    "ExecuteTime": {
     "end_time": "2020-08-27T21:57:05.728185Z",
     "start_time": "2020-08-27T21:57:05.720977Z"
    }
   },
   "outputs": [],
   "source": [
    "conn= mysql.connector.connect(\n",
    "    host = 'localhost',\n",
    "    user = 'root',\n",
    "    password = 'adminadmin',\n",
    "    database='vocab'\n",
    "          )"
   ]
  },
  {
   "cell_type": "code",
   "execution_count": 7,
   "metadata": {
    "ExecuteTime": {
     "end_time": "2020-08-27T21:57:05.732492Z",
     "start_time": "2020-08-27T21:57:05.730216Z"
    }
   },
   "outputs": [],
   "source": [
    "cursor = conn.cursor()"
   ]
  },
  {
   "cell_type": "code",
   "execution_count": 8,
   "metadata": {
    "ExecuteTime": {
     "end_time": "2020-08-27T21:57:05.744705Z",
     "start_time": "2020-08-27T21:57:05.734444Z"
    }
   },
   "outputs": [],
   "source": [
    "sql='DROP TABLE IF EXISTS vocab_table'\n",
    "cursor.execute(sql)"
   ]
  },
  {
   "cell_type": "code",
   "execution_count": 9,
   "metadata": {
    "ExecuteTime": {
     "end_time": "2020-08-27T21:57:05.754974Z",
     "start_time": "2020-08-27T21:57:05.746479Z"
    }
   },
   "outputs": [],
   "source": [
    "sql='CREATE TABLE vocab_table(word VARCHAR(255), definition VARCHAR(255))'\n",
    "cursor.execute(sql)"
   ]
  },
  {
   "cell_type": "code",
   "execution_count": 10,
   "metadata": {
    "ExecuteTime": {
     "end_time": "2020-08-27T21:57:05.761029Z",
     "start_time": "2020-08-27T21:57:05.757216Z"
    }
   },
   "outputs": [
    {
     "name": "stdout",
     "output_type": "stream",
     "text": [
      "/Users/puran/Downloads/Github/Project/Application_Python_MySQL\n"
     ]
    }
   ],
   "source": [
    "import os\n",
    "print(os.getcwd())"
   ]
  },
  {
   "cell_type": "code",
   "execution_count": 11,
   "metadata": {
    "ExecuteTime": {
     "end_time": "2020-08-27T21:57:05.765996Z",
     "start_time": "2020-08-27T21:57:05.762331Z"
    }
   },
   "outputs": [
    {
     "name": "stdout",
     "output_type": "stream",
     "text": [
      "['ate,improve; make better\\n', 'ingest,take in by swallowing\\n', 'gait,a manner of walking, stepping, or running\"\\n', 'sluggard,lazy slow-moving person\\n', 'succumb,yield, die\"\\n', 'reiterate,say or do again several times\\n', 'flop,fail/move/fall clumsily\\n', 'defer,postpone\\n', 'ossified,turned to bone; hardened like bone; Inflexible\\n', 'eloquence,fluent speaking skillful use of language\\n', 'derivative,unoriginal; obtained from another source\\n', 'commuter,person who travels regularly\\n', 'clot,half-solid lump formed from liquid\\n', 'weigh,measure how heavy something is\\n', 'steeply,rising or falling sharply\\n', 'torque,twisting force causing rotation\\n', 'benefactor,person who has given help\\n', 'complaisant,trying to please; obliging\\n', 'plea,request\\n', 'moderation,quality of being limited; not extreme\\n', 'enduring,lasting\\n', 'invincible,too strong to be defeated\\n', 'sanity,health of mind soundness of judgment\\n', 'turmoil,trouble disturbance\\n', 'flimsy,lacking solidarity, strength\"\\n', 'tadpole,form of a frog when it leaves the egg\\n', 'reconcile,settle a quarrel restore peace\\n', 'cryptic,secret with a hidden meaning\\n', 'sponge,porous rubber for washing live at once expense\\n', 'commemorate,keep the memory of\\n', 'sadistic,Cruel\\n', \"dote,show much fondness center one's attention\\n\", 'encapsulate,enclose in capsule\\n', 'fission,splitting or division (esp. of cells)\\n', 'volatile,changeable inconstant fickle unstable explosive\\n', 'alloy,to debase by mixing with something inferior\\n', 'dormant,in a state of inactivity but awaiting development\\n', 'gallant,brave,behaves well with women\"\\n', 'grievous,causing grief or pain; serious dire grave\\n', 'enzyme,catalyst\\n', 'shard,A piece of broken pottery\\n', 'hypocrisy,falsely making oneself appear to be good\\n', 'eradicate,get rid of pull up by the roots\\n', 'chisel,steel tool for shaping materials\\n', 'infuriate,fill with fury or rage\\n', 'engulf,swallow up\\n', 'euphoria,elation state of pleasant excitement\\n', 'sanction,approval (by authority) penalty\\n', 'renowned,celebrated; famous\\n', 'riddle,puzzling person or thing\\n', 'evoke,call up bring out\\n', 'mischievous,harmful; causing mischief\\n', 'implicit,implied though; not plainly expressed\\n', 'disproof,proof to the contrary\\n', 'misogynist,one who hates women/females\\n', 'abysmal,extreme bad\\n', 'writ,written order\\n', 'pertain,belong as a part have reference\\n', 'erratic,irregular in behaviour or opinion\\n', 'meticulous,giving great attention to details\\n', 'impromptu,without preparation\\n', 'inclined,directing the mind in a certain direction\\n', 'constrict,make tight or smaller\\n', 'perish,be destroyed decay\\n', 'Lambaste,attack verbally\\n', 'luminary,star; light-giving body\\n', 'dupe,cheat make a fool of\\n', 'auxiliary,helping; supporting\\n', 'extralegal,outside the law\\n', 'ambivalent,having both of two contrary meanings\\n', 'tonic,something giving strength or energy\\n', \"endorse,write one's name on the back of\\n\", 'turbulence,being uncontrollably violent\\n', 'connoisseur,a person with good judgement (e.g.. in art)\\n', 'indistinct,not easily heard; seen clearly marked\\n', 'abstruse,difficult to comprehend; obscure\\n', 'limp,lacking strength; walking unevenly\\n', 'parenthesis,sentence within another one something separated\\n', 'sophisticated,complex; subtle; refined\\n', 'aberration,straying away from what is normal\\n', 'recuperate,become strong after illness loss exhaustion\\n', 'perjury,willful FALSE statement unlawful act\\n', 'mite,A very small amount, portion, or particle\"\\n', 'pest,destructive thing or a person who is nuisance\\n', 'pluck,pull the feathers off pick (e.g.. flowers)\\n', 'satiate,satisfy fully\\n', 'colloquial,involving or using conversation.\\n', 'yeoman,man owning small estate; middle-class farmer\\n', 'ail,to cause pain, uneasiness, or trouble to.\"\\n', 'fidelity,loyalty accuracy\\n', 'mesmerize,hypnotize\\n', 'paradigm,a model example or pattern\\n', 'gullible,easily gulled\\n', 'sobriety,quality or condition of being sober\\n', 'dislodge,move force from the place occupied\\n', 'fleet,number of ships; quick-moving\\n', 'articulate,speak distinctly; connect by joints\\n', 'tractable,easily controlled or guided\\n', 'partisan,one-sided committed to a party biased or prejudiced\\n', 'predominate,have more power than others\\n', 'foolproof,incapable of failure or error\\n', 'suffice,be enough\\n', 'permeate,spread into every part of\\n', 'spear,weapon with a metal point on a long shaft\\n', 'solvent,of the power of forming a solution\\n', 'presentiment,anticipatory fear; premonition\\n', 'vivacious,lively high-spirited\\n', 'coagulation,change to a thick and solid state\\n', 'liberality,free giving; generosity\\n', 'elaborate,worked out with much care in great detail\\n', 'brass,yellow metal (mixing copper and zinc)\\n', 'malleable,yielding easily shaped; moldable; adapting\\n', 'patron,regular customer person who gives support\\n', 'immutable,that cannot be changed\\n', 'forgery,counterfeit\\n', 'woo,try to win\\n', 'cordial,warm and sincere\\n', 'cumbersome,burdensome; heavy and awkward to carry\\n', 'beguile,mislead or delude; cheat; pass time\\n', 'retrograde,receding\\n', 'sheath,cover for the blade of a weapon or a tool\\n', 'bewilder,puzzle; confuse\\n', 'knit,draw together; unite firmly\\n', 'unscathed,unharmed unhurt\\n', 'chortle,loud chuckle of pleasure or amusement\\n', 'jabber,talk excitedly; utter rapidly\\n', 'pivotal,of great importance (others depend on it)\\n', 'implosion,collapse; bursting inward\\n', 'repel,refuse to accept/cause dislike\\n', 'superimpose,put something on the top\\n', 'centurion,leader of a unit of 100 soldiers\\n', 'enigma,something that is puzzling\\n', 'calipers,metal supports attached to the legs measuring instrument\\n', 'redeem,get back by payment compensate\\n', 'buoyant,able to float; light-hearted\\n', 'impede,hinder; get in the way of\\n', 'stride,walk with long steps\\n', 'boisterous,noisy; restraint\\n', 'resuscitation,coming back to consciousness\\n', 'concur,agree in opinion happen together\\n', 'recitals,a number of performance of music\\n', 'treacherous,not to be trusted, perfidious\"\\n', 'indulgent,inclined to indulge\\n', 'pilferer,to steal, especially in small quantities\"\\n', 'foster,nurture; care for\\n', 'apartheid,brutal racial discrimination\\n', 'garrulous,too talkative\\n', 'edify,instruct; correct morally\\n', 'evasive,tending to evade\\n', 'misanthrope,person who hates mankind\\n', 'eulogy,formal praise panegyric\\n', 'arcane,known or understood by very few\\n', 'bogus,sham; counterfeit; not genuine\\n', 'dexterity,skill (esp. in handling)\\n', 'lampoon,publicly mock or ridicule\\n', 'skit,short piece of humorous writing\\n', 'incongruous,out of place; not in harmony or agreement\\n', 'repulsive,causing a feeling of disgust\\n', 'refine,make or become pure cultural\\n']\n"
     ]
    }
   ],
   "source": [
    "fh= open('/Users/puran/Downloads/Project/Python Application-MySQL/Vocabulary_list.csv')\n",
    "wd_list=fh.readlines()\n",
    "print(wd_list)"
   ]
  },
  {
   "cell_type": "code",
   "execution_count": 12,
   "metadata": {
    "ExecuteTime": {
     "end_time": "2020-08-27T21:57:05.776842Z",
     "start_time": "2020-08-27T21:57:05.767848Z"
    }
   },
   "outputs": [
    {
     "data": {
      "text/plain": [
       "'ate,improve; make better\\n'"
      ]
     },
     "execution_count": 12,
     "metadata": {},
     "output_type": "execute_result"
    }
   ],
   "source": [
    "# remove list item and return this item\n",
    "wd_list.pop(0)"
   ]
  },
  {
   "cell_type": "code",
   "execution_count": 15,
   "metadata": {
    "ExecuteTime": {
     "end_time": "2020-08-27T21:58:06.299762Z",
     "start_time": "2020-08-27T21:58:06.195954Z"
    }
   },
   "outputs": [
    {
     "name": "stdout",
     "output_type": "stream",
     "text": [
      "Inserted1row into vocab_table\n",
      "Inserted1row into vocab_table\n",
      "Inserted1row into vocab_table\n",
      "Inserted1row into vocab_table\n",
      "Inserted1row into vocab_table\n",
      "Inserted1row into vocab_table\n",
      "Inserted1row into vocab_table\n",
      "Inserted1row into vocab_table\n",
      "Inserted1row into vocab_table\n",
      "Inserted1row into vocab_table\n",
      "Inserted1row into vocab_table\n",
      "Inserted1row into vocab_table\n",
      "Inserted1row into vocab_table\n",
      "Inserted1row into vocab_table\n",
      "Inserted1row into vocab_table\n",
      "Inserted1row into vocab_table\n",
      "Inserted1row into vocab_table\n",
      "Inserted1row into vocab_table\n",
      "Inserted1row into vocab_table\n",
      "Inserted1row into vocab_table\n",
      "Inserted1row into vocab_table\n",
      "Inserted1row into vocab_table\n",
      "Inserted1row into vocab_table\n",
      "Inserted1row into vocab_table\n",
      "Inserted1row into vocab_table\n",
      "Inserted1row into vocab_table\n",
      "Inserted1row into vocab_table\n",
      "Inserted1row into vocab_table\n",
      "Inserted1row into vocab_table\n",
      "Inserted1row into vocab_table\n",
      "Inserted1row into vocab_table\n",
      "Inserted1row into vocab_table\n",
      "Inserted1row into vocab_table\n",
      "Inserted1row into vocab_table\n",
      "Inserted1row into vocab_table\n",
      "Inserted1row into vocab_table\n",
      "Inserted1row into vocab_table\n",
      "Inserted1row into vocab_table\n",
      "Inserted1row into vocab_table\n",
      "Inserted1row into vocab_table\n",
      "Inserted1row into vocab_table\n",
      "Inserted1row into vocab_table\n",
      "Inserted1row into vocab_table\n",
      "Inserted1row into vocab_table\n",
      "Inserted1row into vocab_table\n",
      "Inserted1row into vocab_table\n",
      "Inserted1row into vocab_table\n",
      "Inserted1row into vocab_table\n",
      "Inserted1row into vocab_table\n",
      "Inserted1row into vocab_table\n",
      "Inserted1row into vocab_table\n",
      "Inserted1row into vocab_table\n",
      "Inserted1row into vocab_table\n",
      "Inserted1row into vocab_table\n",
      "Inserted1row into vocab_table\n",
      "Inserted1row into vocab_table\n",
      "Inserted1row into vocab_table\n",
      "Inserted1row into vocab_table\n",
      "Inserted1row into vocab_table\n",
      "Inserted1row into vocab_table\n",
      "Inserted1row into vocab_table\n",
      "Inserted1row into vocab_table\n",
      "Inserted1row into vocab_table\n",
      "Inserted1row into vocab_table\n",
      "Inserted1row into vocab_table\n",
      "Inserted1row into vocab_table\n",
      "Inserted1row into vocab_table\n",
      "Inserted1row into vocab_table\n",
      "Inserted1row into vocab_table\n",
      "Inserted1row into vocab_table\n",
      "Inserted1row into vocab_table\n",
      "Inserted1row into vocab_table\n",
      "Inserted1row into vocab_table\n",
      "Inserted1row into vocab_table\n",
      "Inserted1row into vocab_table\n",
      "Inserted1row into vocab_table\n",
      "Inserted1row into vocab_table\n",
      "Inserted1row into vocab_table\n",
      "Inserted1row into vocab_table\n",
      "Inserted1row into vocab_table\n",
      "Inserted1row into vocab_table\n",
      "Inserted1row into vocab_table\n",
      "Inserted1row into vocab_table\n",
      "Inserted1row into vocab_table\n",
      "Inserted1row into vocab_table\n",
      "Inserted1row into vocab_table\n",
      "Inserted1row into vocab_table\n",
      "Inserted1row into vocab_table\n",
      "Inserted1row into vocab_table\n",
      "Inserted1row into vocab_table\n",
      "Inserted1row into vocab_table\n",
      "Inserted1row into vocab_table\n",
      "Inserted1row into vocab_table\n",
      "Inserted1row into vocab_table\n",
      "Inserted1row into vocab_table\n",
      "Inserted1row into vocab_table\n",
      "Inserted1row into vocab_table\n",
      "Inserted1row into vocab_table\n",
      "Inserted1row into vocab_table\n",
      "Inserted1row into vocab_table\n",
      "Inserted1row into vocab_table\n",
      "Inserted1row into vocab_table\n",
      "Inserted1row into vocab_table\n",
      "Inserted1row into vocab_table\n",
      "Inserted1row into vocab_table\n",
      "Inserted1row into vocab_table\n",
      "Inserted1row into vocab_table\n",
      "Inserted1row into vocab_table\n",
      "Inserted1row into vocab_table\n",
      "Inserted1row into vocab_table\n",
      "Inserted1row into vocab_table\n",
      "Inserted1row into vocab_table\n",
      "Inserted1row into vocab_table\n",
      "Inserted1row into vocab_table\n",
      "Inserted1row into vocab_table\n",
      "Inserted1row into vocab_table\n",
      "Inserted1row into vocab_table\n",
      "Inserted1row into vocab_table\n",
      "Inserted1row into vocab_table\n",
      "Inserted1row into vocab_table\n",
      "Inserted1row into vocab_table\n",
      "Inserted1row into vocab_table\n",
      "Inserted1row into vocab_table\n",
      "Inserted1row into vocab_table\n",
      "Inserted1row into vocab_table\n",
      "Inserted1row into vocab_table\n",
      "Inserted1row into vocab_table\n",
      "Inserted1row into vocab_table\n",
      "Inserted1row into vocab_table\n",
      "Inserted1row into vocab_table\n",
      "Inserted1row into vocab_table\n",
      "Inserted1row into vocab_table\n",
      "Inserted1row into vocab_table\n",
      "Inserted1row into vocab_table\n",
      "Inserted1row into vocab_table\n",
      "Inserted1row into vocab_table\n",
      "Inserted1row into vocab_table\n",
      "Inserted1row into vocab_table\n",
      "Inserted1row into vocab_table\n",
      "Inserted1row into vocab_table\n",
      "Inserted1row into vocab_table\n",
      "Inserted1row into vocab_table\n",
      "Inserted1row into vocab_table\n",
      "Inserted1row into vocab_table\n",
      "Inserted1row into vocab_table\n",
      "Inserted1row into vocab_table\n",
      "Inserted1row into vocab_table\n",
      "Inserted1row into vocab_table\n",
      "Inserted1row into vocab_table\n",
      "Inserted1row into vocab_table\n",
      "Inserted1row into vocab_table\n",
      "Inserted1row into vocab_table\n",
      "Inserted1row into vocab_table\n",
      "Inserted1row into vocab_table\n",
      "Inserted1row into vocab_table\n",
      "Inserted1row into vocab_table\n",
      "Inserted1row into vocab_table\n",
      "Inserted1row into vocab_table\n"
     ]
    }
   ],
   "source": [
    "vocab_list =[]\n",
    "for rawstring in wd_list:\n",
    "    # Split the string into a list with max 2 items\n",
    "    word, definition= rawstring.split(',',1)\n",
    "    # remove string\n",
    "    definition= definition.rstrip()\n",
    "    vocab_list.append({word, definition})\n",
    "    sql ='INSERT INTO vocab_table(word, definition) VALUES(%s,%s)'\n",
    "    values=(word, definition)\n",
    "    cursor.execute(sql,values)\n",
    "    \n",
    "    conn.commit()\n",
    "    print(\"Inserted\" + str(cursor.rowcount) + \"row into vocab_table\")\n",
    "#print(vocab_list)"
   ]
  },
  {
   "cell_type": "markdown",
   "metadata": {},
   "source": [
    "### Query the Database Table using Select Statement"
   ]
  },
  {
   "cell_type": "code",
   "execution_count": 21,
   "metadata": {
    "ExecuteTime": {
     "end_time": "2020-08-27T22:18:12.724084Z",
     "start_time": "2020-08-27T22:18:12.720750Z"
    }
   },
   "outputs": [],
   "source": [
    "sql = 'SELECT * from vocab_table WHERE word= %s'\n",
    "value=('boisterous',)\n",
    "cursor.execute(sql, value)"
   ]
  },
  {
   "cell_type": "code",
   "execution_count": 22,
   "metadata": {
    "ExecuteTime": {
     "end_time": "2020-08-27T22:18:15.615673Z",
     "start_time": "2020-08-27T22:18:15.612824Z"
    }
   },
   "outputs": [],
   "source": [
    "result = cursor.fetchall()"
   ]
  },
  {
   "cell_type": "code",
   "execution_count": 23,
   "metadata": {
    "ExecuteTime": {
     "end_time": "2020-08-27T22:18:18.361628Z",
     "start_time": "2020-08-27T22:18:18.357951Z"
    }
   },
   "outputs": [
    {
     "name": "stdout",
     "output_type": "stream",
     "text": [
      "('boisterous', 'noisy; restraint')\n"
     ]
    }
   ],
   "source": [
    "for row in result:\n",
    "    print(row)"
   ]
  },
  {
   "cell_type": "markdown",
   "metadata": {},
   "source": [
    "### Update a Table Entry to Modify it"
   ]
  },
  {
   "cell_type": "code",
   "execution_count": 27,
   "metadata": {
    "ExecuteTime": {
     "end_time": "2020-08-27T22:25:34.185425Z",
     "start_time": "2020-08-27T22:25:34.181654Z"
    }
   },
   "outputs": [],
   "source": [
    "sql='UPDATE vocab_table set definition = %s WHERE word = %s'\n",
    "value = ('spirited; lively', 'boisterous')\n",
    "cursor.execute(sql, value)"
   ]
  },
  {
   "cell_type": "code",
   "execution_count": 29,
   "metadata": {
    "ExecuteTime": {
     "end_time": "2020-08-27T22:27:39.880846Z",
     "start_time": "2020-08-27T22:27:39.876550Z"
    }
   },
   "outputs": [
    {
     "name": "stdout",
     "output_type": "stream",
     "text": [
      "Modified row count: 1\n"
     ]
    }
   ],
   "source": [
    "conn.commit()\n",
    "print('Modified row count:', cursor.rowcount)"
   ]
  },
  {
   "cell_type": "code",
   "execution_count": 30,
   "metadata": {
    "ExecuteTime": {
     "end_time": "2020-08-27T22:29:48.426832Z",
     "start_time": "2020-08-27T22:29:48.421908Z"
    }
   },
   "outputs": [
    {
     "name": "stdout",
     "output_type": "stream",
     "text": [
      "('boisterous', 'spirited; lively')\n"
     ]
    }
   ],
   "source": [
    "sql = 'SELECT * from vocab_table WHERE word= %s'\n",
    "value=('boisterous',)\n",
    "cursor.execute(sql, value)\n",
    "result = cursor.fetchall()\n",
    "for row in result:\n",
    "    print(row)"
   ]
  }
 ],
 "metadata": {
  "hide_input": false,
  "kernelspec": {
   "display_name": "Python 3",
   "language": "python",
   "name": "python3"
  },
  "language_info": {
   "codemirror_mode": {
    "name": "ipython",
    "version": 3
   },
   "file_extension": ".py",
   "mimetype": "text/x-python",
   "name": "python",
   "nbconvert_exporter": "python",
   "pygments_lexer": "ipython3",
   "version": "3.7.3"
  },
  "toc": {
   "base_numbering": 1,
   "nav_menu": {},
   "number_sections": true,
   "sideBar": true,
   "skip_h1_title": false,
   "title_cell": "Table of Contents",
   "title_sidebar": "Contents",
   "toc_cell": false,
   "toc_position": {},
   "toc_section_display": true,
   "toc_window_display": false
  }
 },
 "nbformat": 4,
 "nbformat_minor": 2
}
