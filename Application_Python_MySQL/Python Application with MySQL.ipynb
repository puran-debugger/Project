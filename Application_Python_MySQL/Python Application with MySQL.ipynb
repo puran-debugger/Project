{
 "cells": [
  {
   "cell_type": "markdown",
   "metadata": {},
   "source": [
    "### Read data"
   ]
  },
  {
   "cell_type": "code",
   "execution_count": 2,
   "metadata": {
    "ExecuteTime": {
     "end_time": "2020-08-24T20:21:40.925574Z",
     "start_time": "2020-08-24T20:21:40.920571Z"
    }
   },
   "outputs": [
    {
     "name": "stdout",
     "output_type": "stream",
     "text": [
      "/Users/puran/Downloads/Github/Project/Application_Python_MySQL\n"
     ]
    }
   ],
   "source": [
    "import os\n",
    "print(os.getcwd())"
   ]
  },
  {
   "cell_type": "code",
   "execution_count": 10,
   "metadata": {
    "ExecuteTime": {
     "end_time": "2020-08-24T20:26:51.878646Z",
     "start_time": "2020-08-24T20:26:51.867846Z"
    }
   },
   "outputs": [
    {
     "name": "stdout",
     "output_type": "stream",
     "text": [
      "['ate,improve; make better\\n', 'ingest,take in by swallowing\\n', 'gait,a manner of walking, stepping, or running\"\\n', 'sluggard,lazy slow-moving person\\n', 'succumb,yield, die\"\\n', 'reiterate,say or do again several times\\n', 'flop,fail/move/fall clumsily\\n', 'defer,postpone\\n', 'ossified,turned to bone; hardened like bone; Inflexible\\n', 'eloquence,fluent speaking skillful use of language\\n', 'derivative,unoriginal; obtained from another source\\n', 'commuter,person who travels regularly\\n', 'clot,half-solid lump formed from liquid\\n', 'weigh,measure how heavy something is\\n', 'steeply,rising or falling sharply\\n', 'torque,twisting force causing rotation\\n', 'benefactor,person who has given help\\n', 'complaisant,trying to please; obliging\\n', 'plea,request\\n', 'moderation,quality of being limited; not extreme\\n', 'enduring,lasting\\n', 'invincible,too strong to be defeated\\n', 'sanity,health of mind soundness of judgment\\n', 'turmoil,trouble disturbance\\n', 'flimsy,lacking solidarity, strength\"\\n', 'tadpole,form of a frog when it leaves the egg\\n', 'reconcile,settle a quarrel restore peace\\n', 'cryptic,secret with a hidden meaning\\n', 'sponge,porous rubber for washing live at once expense\\n', 'commemorate,keep the memory of\\n', 'sadistic,Cruel\\n', \"dote,show much fondness center one's attention\\n\", 'encapsulate,enclose in capsule\\n', 'fission,splitting or division (esp. of cells)\\n', 'volatile,changeable inconstant fickle unstable explosive\\n', 'alloy,to debase by mixing with something inferior\\n', 'dormant,in a state of inactivity but awaiting development\\n', 'gallant,brave,behaves well with women\"\\n', 'grievous,causing grief or pain; serious dire grave\\n', 'enzyme,catalyst\\n', 'shard,A piece of broken pottery\\n', 'hypocrisy,falsely making oneself appear to be good\\n', 'eradicate,get rid of pull up by the roots\\n', 'chisel,steel tool for shaping materials\\n', 'infuriate,fill with fury or rage\\n', 'engulf,swallow up\\n', 'euphoria,elation state of pleasant excitement\\n', 'sanction,approval (by authority) penalty\\n', 'renowned,celebrated; famous\\n', 'riddle,puzzling person or thing\\n', 'evoke,call up bring out\\n', 'mischievous,harmful; causing mischief\\n', 'implicit,implied though; not plainly expressed\\n', 'disproof,proof to the contrary\\n', 'misogynist,one who hates women/females\\n', 'abysmal,extreme bad\\n', 'writ,written order\\n', 'pertain,belong as a part have reference\\n', 'erratic,irregular in behaviour or opinion\\n', 'meticulous,giving great attention to details\\n', 'impromptu,without preparation\\n', 'inclined,directing the mind in a certain direction\\n', 'constrict,make tight or smaller\\n', 'perish,be destroyed decay\\n', 'Lambaste,attack verbally\\n', 'luminary,star; light-giving body\\n', 'dupe,cheat make a fool of\\n', 'auxiliary,helping; supporting\\n', 'extralegal,outside the law\\n', 'ambivalent,having both of two contrary meanings\\n', 'tonic,something giving strength or energy\\n', \"endorse,write one's name on the back of\\n\", 'turbulence,being uncontrollably violent\\n', 'connoisseur,a person with good judgement (e.g.. in art)\\n', 'indistinct,not easily heard; seen clearly marked\\n', 'abstruse,difficult to comprehend; obscure\\n', 'limp,lacking strength; walking unevenly\\n', 'parenthesis,sentence within another one something separated\\n', 'sophisticated,complex; subtle; refined\\n', 'aberration,straying away from what is normal\\n', 'recuperate,become strong after illness loss exhaustion\\n', 'perjury,willful FALSE statement unlawful act\\n', 'mite,A very small amount, portion, or particle\"\\n', 'pest,destructive thing or a person who is nuisance\\n', 'pluck,pull the feathers off pick (e.g.. flowers)\\n', 'satiate,satisfy fully\\n', 'colloquial,involving or using conversation.\\n', 'yeoman,man owning small estate; middle-class farmer\\n', 'ail,to cause pain, uneasiness, or trouble to.\"\\n', 'fidelity,loyalty accuracy\\n', 'mesmerize,hypnotize\\n', 'paradigm,a model example or pattern\\n', 'gullible,easily gulled\\n', 'sobriety,quality or condition of being sober\\n', 'dislodge,move force from the place occupied\\n', 'fleet,number of ships; quick-moving\\n', 'articulate,speak distinctly; connect by joints\\n', 'tractable,easily controlled or guided\\n', 'partisan,one-sided committed to a party biased or prejudiced\\n', 'predominate,have more power than others\\n', 'foolproof,incapable of failure or error\\n', 'suffice,be enough\\n', 'permeate,spread into every part of\\n', 'spear,weapon with a metal point on a long shaft\\n', 'solvent,of the power of forming a solution\\n', 'presentiment,anticipatory fear; premonition\\n', 'vivacious,lively high-spirited\\n', 'coagulation,change to a thick and solid state\\n', 'liberality,free giving; generosity\\n', 'elaborate,worked out with much care in great detail\\n', 'brass,yellow metal (mixing copper and zinc)\\n', 'malleable,yielding easily shaped; moldable; adapting\\n', 'patron,regular customer person who gives support\\n', 'immutable,that cannot be changed\\n', 'forgery,counterfeit\\n', 'woo,try to win\\n', 'cordial,warm and sincere\\n', 'cumbersome,burdensome; heavy and awkward to carry\\n', 'beguile,mislead or delude; cheat; pass time\\n', 'retrograde,receding\\n', 'sheath,cover for the blade of a weapon or a tool\\n', 'bewilder,puzzle; confuse\\n', 'knit,draw together; unite firmly\\n', 'unscathed,unharmed unhurt\\n', 'chortle,loud chuckle of pleasure or amusement\\n', 'jabber,talk excitedly; utter rapidly\\n', 'pivotal,of great importance (others depend on it)\\n', 'implosion,collapse; bursting inward\\n', 'repel,refuse to accept/cause dislike\\n', 'superimpose,put something on the top\\n', 'centurion,leader of a unit of 100 soldiers\\n', 'enigma,something that is puzzling\\n', 'calipers,metal supports attached to the legs measuring instrument\\n', 'redeem,get back by payment compensate\\n', 'buoyant,able to float; light-hearted\\n', 'impede,hinder; get in the way of\\n', 'stride,walk with long steps\\n', 'boisterous,noisy; restraint\\n', 'resuscitation,coming back to consciousness\\n', 'concur,agree in opinion happen together\\n', 'recitals,a number of performance of music\\n', 'treacherous,not to be trusted, perfidious\"\\n', 'indulgent,inclined to indulge\\n', 'pilferer,to steal, especially in small quantities\"\\n', 'foster,nurture; care for\\n', 'apartheid,brutal racial discrimination\\n', 'garrulous,too talkative\\n', 'edify,instruct; correct morally\\n', 'evasive,tending to evade\\n', 'misanthrope,person who hates mankind\\n', 'eulogy,formal praise panegyric\\n', 'arcane,known or understood by very few\\n', 'bogus,sham; counterfeit; not genuine\\n', 'dexterity,skill (esp. in handling)\\n', 'lampoon,publicly mock or ridicule\\n', 'skit,short piece of humorous writing\\n', 'incongruous,out of place; not in harmony or agreement\\n', 'repulsive,causing a feeling of disgust\\n', 'refine,make or become pure cultural\\n']\n"
     ]
    }
   ],
   "source": [
    "fh= open('/Users/puran/Downloads/Project/Python Application-MySQL/Vocabulary_list.csv')\n",
    "wd_list=fh.readlines()\n",
    "print(wd_list)"
   ]
  },
  {
   "cell_type": "code",
   "execution_count": 11,
   "metadata": {
    "ExecuteTime": {
     "end_time": "2020-08-24T20:27:05.676267Z",
     "start_time": "2020-08-24T20:27:05.671899Z"
    }
   },
   "outputs": [
    {
     "data": {
      "text/plain": [
       "'ate,improve; make better\\n'"
      ]
     },
     "execution_count": 11,
     "metadata": {},
     "output_type": "execute_result"
    }
   ],
   "source": [
    "# remove list item and return this item\n",
    "wd_list.pop(0)"
   ]
  },
  {
   "cell_type": "code",
   "execution_count": 13,
   "metadata": {
    "ExecuteTime": {
     "end_time": "2020-08-24T20:29:53.222709Z",
     "start_time": "2020-08-24T20:29:53.216300Z"
    }
   },
   "outputs": [
    {
     "name": "stdout",
     "output_type": "stream",
     "text": [
      "[{'ingest', 'take in by swallowing'}, {'gait', 'a manner of walking, stepping, or running\"'}, {'lazy slow-moving person', 'sluggard'}, {'succumb', 'yield, die\"'}, {'reiterate', 'say or do again several times'}, {'flop', 'fail/move/fall clumsily'}, {'defer', 'postpone'}, {'ossified', 'turned to bone; hardened like bone; Inflexible'}, {'fluent speaking skillful use of language', 'eloquence'}, {'unoriginal; obtained from another source', 'derivative'}, {'commuter', 'person who travels regularly'}, {'half-solid lump formed from liquid', 'clot'}, {'weigh', 'measure how heavy something is'}, {'rising or falling sharply', 'steeply'}, {'torque', 'twisting force causing rotation'}, {'person who has given help', 'benefactor'}, {'trying to please; obliging', 'complaisant'}, {'plea', 'request'}, {'moderation', 'quality of being limited; not extreme'}, {'enduring', 'lasting'}, {'invincible', 'too strong to be defeated'}, {'sanity', 'health of mind soundness of judgment'}, {'turmoil', 'trouble disturbance'}, {'flimsy', 'lacking solidarity, strength\"'}, {'form of a frog when it leaves the egg', 'tadpole'}, {'reconcile', 'settle a quarrel restore peace'}, {'cryptic', 'secret with a hidden meaning'}, {'sponge', 'porous rubber for washing live at once expense'}, {'commemorate', 'keep the memory of'}, {'sadistic', 'Cruel'}, {\"show much fondness center one's attention\", 'dote'}, {'enclose in capsule', 'encapsulate'}, {'splitting or division (esp. of cells)', 'fission'}, {'volatile', 'changeable inconstant fickle unstable explosive'}, {'alloy', 'to debase by mixing with something inferior'}, {'dormant', 'in a state of inactivity but awaiting development'}, {'brave,behaves well with women\"', 'gallant'}, {'causing grief or pain; serious dire grave', 'grievous'}, {'catalyst', 'enzyme'}, {'A piece of broken pottery', 'shard'}, {'hypocrisy', 'falsely making oneself appear to be good'}, {'get rid of pull up by the roots', 'eradicate'}, {'steel tool for shaping materials', 'chisel'}, {'fill with fury or rage', 'infuriate'}, {'swallow up', 'engulf'}, {'euphoria', 'elation state of pleasant excitement'}, {'sanction', 'approval (by authority) penalty'}, {'renowned', 'celebrated; famous'}, {'puzzling person or thing', 'riddle'}, {'evoke', 'call up bring out'}, {'harmful; causing mischief', 'mischievous'}, {'implied though; not plainly expressed', 'implicit'}, {'proof to the contrary', 'disproof'}, {'one who hates women/females', 'misogynist'}, {'abysmal', 'extreme bad'}, {'written order', 'writ'}, {'belong as a part have reference', 'pertain'}, {'erratic', 'irregular in behaviour or opinion'}, {'meticulous', 'giving great attention to details'}, {'impromptu', 'without preparation'}, {'inclined', 'directing the mind in a certain direction'}, {'make tight or smaller', 'constrict'}, {'perish', 'be destroyed decay'}, {'Lambaste', 'attack verbally'}, {'luminary', 'star; light-giving body'}, {'cheat make a fool of', 'dupe'}, {'helping; supporting', 'auxiliary'}, {'extralegal', 'outside the law'}, {'having both of two contrary meanings', 'ambivalent'}, {'tonic', 'something giving strength or energy'}, {\"write one's name on the back of\", 'endorse'}, {'being uncontrollably violent', 'turbulence'}, {'a person with good judgement (e.g.. in art)', 'connoisseur'}, {'not easily heard; seen clearly marked', 'indistinct'}, {'difficult to comprehend; obscure', 'abstruse'}, {'lacking strength; walking unevenly', 'limp'}, {'sentence within another one something separated', 'parenthesis'}, {'complex; subtle; refined', 'sophisticated'}, {'aberration', 'straying away from what is normal'}, {'recuperate', 'become strong after illness loss exhaustion'}, {'perjury', 'willful FALSE statement unlawful act'}, {'A very small amount, portion, or particle\"', 'mite'}, {'destructive thing or a person who is nuisance', 'pest'}, {'pluck', 'pull the feathers off pick (e.g.. flowers)'}, {'satiate', 'satisfy fully'}, {'involving or using conversation.', 'colloquial'}, {'man owning small estate; middle-class farmer', 'yeoman'}, {'ail', 'to cause pain, uneasiness, or trouble to.\"'}, {'loyalty accuracy', 'fidelity'}, {'mesmerize', 'hypnotize'}, {'paradigm', 'a model example or pattern'}, {'gullible', 'easily gulled'}, {'quality or condition of being sober', 'sobriety'}, {'move force from the place occupied', 'dislodge'}, {'fleet', 'number of ships; quick-moving'}, {'speak distinctly; connect by joints', 'articulate'}, {'easily controlled or guided', 'tractable'}, {'partisan', 'one-sided committed to a party biased or prejudiced'}, {'have more power than others', 'predominate'}, {'incapable of failure or error', 'foolproof'}, {'be enough', 'suffice'}, {'spread into every part of', 'permeate'}, {'spear', 'weapon with a metal point on a long shaft'}, {'of the power of forming a solution', 'solvent'}, {'presentiment', 'anticipatory fear; premonition'}, {'lively high-spirited', 'vivacious'}, {'change to a thick and solid state', 'coagulation'}, {'liberality', 'free giving; generosity'}, {'elaborate', 'worked out with much care in great detail'}, {'brass', 'yellow metal (mixing copper and zinc)'}, {'yielding easily shaped; moldable; adapting', 'malleable'}, {'patron', 'regular customer person who gives support'}, {'immutable', 'that cannot be changed'}, {'forgery', 'counterfeit'}, {'try to win', 'woo'}, {'warm and sincere', 'cordial'}, {'cumbersome', 'burdensome; heavy and awkward to carry'}, {'mislead or delude; cheat; pass time', 'beguile'}, {'retrograde', 'receding'}, {'cover for the blade of a weapon or a tool', 'sheath'}, {'bewilder', 'puzzle; confuse'}, {'knit', 'draw together; unite firmly'}, {'unharmed unhurt', 'unscathed'}, {'loud chuckle of pleasure or amusement', 'chortle'}, {'talk excitedly; utter rapidly', 'jabber'}, {'pivotal', 'of great importance (others depend on it)'}, {'collapse; bursting inward', 'implosion'}, {'repel', 'refuse to accept/cause dislike'}, {'put something on the top', 'superimpose'}, {'centurion', 'leader of a unit of 100 soldiers'}, {'something that is puzzling', 'enigma'}, {'calipers', 'metal supports attached to the legs measuring instrument'}, {'get back by payment compensate', 'redeem'}, {'able to float; light-hearted', 'buoyant'}, {'hinder; get in the way of', 'impede'}, {'walk with long steps', 'stride'}, {'noisy; restraint', 'boisterous'}, {'coming back to consciousness', 'resuscitation'}, {'concur', 'agree in opinion happen together'}, {'a number of performance of music', 'recitals'}, {'treacherous', 'not to be trusted, perfidious\"'}, {'inclined to indulge', 'indulgent'}, {'to steal, especially in small quantities\"', 'pilferer'}, {'foster', 'nurture; care for'}, {'brutal racial discrimination', 'apartheid'}, {'too talkative', 'garrulous'}, {'instruct; correct morally', 'edify'}, {'evasive', 'tending to evade'}, {'person who hates mankind', 'misanthrope'}, {'formal praise panegyric', 'eulogy'}, {'known or understood by very few', 'arcane'}, {'bogus', 'sham; counterfeit; not genuine'}, {'skill (esp. in handling)', 'dexterity'}, {'lampoon', 'publicly mock or ridicule'}, {'skit', 'short piece of humorous writing'}, {'incongruous', 'out of place; not in harmony or agreement'}, {'repulsive', 'causing a feeling of disgust'}, {'make or become pure cultural', 'refine'}]\n"
     ]
    }
   ],
   "source": [
    "vocab_list =[]\n",
    "for rawstring in wd_list:\n",
    "    # Split the string into a list with max 2 items\n",
    "    word, definition= rawstring.split(',',1)\n",
    "    # remove string\n",
    "    definition= definition.rstrip()\n",
    "    vocab_list.append({word, definition})\n",
    "print(vocab_list)"
   ]
  },
  {
   "cell_type": "markdown",
   "metadata": {},
   "source": [
    "### Create MySQL Database"
   ]
  },
  {
   "cell_type": "code",
   "execution_count": 16,
   "metadata": {
    "ExecuteTime": {
     "end_time": "2020-08-24T20:39:08.801789Z",
     "start_time": "2020-08-24T20:39:08.798925Z"
    }
   },
   "outputs": [],
   "source": [
    "import mysql.connector\n",
    "import re "
   ]
  },
  {
   "cell_type": "code",
   "execution_count": 22,
   "metadata": {
    "ExecuteTime": {
     "end_time": "2020-08-25T05:25:16.989205Z",
     "start_time": "2020-08-25T05:25:16.974936Z"
    }
   },
   "outputs": [],
   "source": [
    "conn= mysql.connector.connect(\n",
    "    host = 'localhost',\n",
    "    user = 'root',\n",
    "    password = 'Pb13007114' \n",
    "          )"
   ]
  },
  {
   "cell_type": "code",
   "execution_count": 25,
   "metadata": {
    "ExecuteTime": {
     "end_time": "2020-08-25T05:37:45.053587Z",
     "start_time": "2020-08-25T05:37:45.028588Z"
    }
   },
   "outputs": [],
   "source": [
    "cursor = conn.cursor()"
   ]
  },
  {
   "cell_type": "code",
   "execution_count": 24,
   "metadata": {
    "ExecuteTime": {
     "end_time": "2020-08-25T05:25:54.638480Z",
     "start_time": "2020-08-25T05:25:54.626292Z"
    }
   },
   "outputs": [
    {
     "ename": "ProgrammingError",
     "evalue": "1064 (42000): You have an error in your SQL syntax; check the manual that corresponds to your MySQL server version for the right syntax to use near 'DATABASE' at line 1",
     "output_type": "error",
     "traceback": [
      "\u001b[0;31m---------------------------------------------------------------------------\u001b[0m",
      "\u001b[0;31mMySQLInterfaceError\u001b[0m                       Traceback (most recent call last)",
      "\u001b[0;32m/anaconda3/lib/python3.7/site-packages/mysql/connector/connection_cext.py\u001b[0m in \u001b[0;36mcmd_query\u001b[0;34m(self, query, raw, buffered, raw_as_string)\u001b[0m\n\u001b[1;32m    488\u001b[0m                                \u001b[0mraw\u001b[0m\u001b[0;34m=\u001b[0m\u001b[0mraw\u001b[0m\u001b[0;34m,\u001b[0m \u001b[0mbuffered\u001b[0m\u001b[0;34m=\u001b[0m\u001b[0mbuffered\u001b[0m\u001b[0;34m,\u001b[0m\u001b[0;34m\u001b[0m\u001b[0;34m\u001b[0m\u001b[0m\n\u001b[0;32m--> 489\u001b[0;31m                                raw_as_string=raw_as_string)\n\u001b[0m\u001b[1;32m    490\u001b[0m         \u001b[0;32mexcept\u001b[0m \u001b[0mMySQLInterfaceError\u001b[0m \u001b[0;32mas\u001b[0m \u001b[0mexc\u001b[0m\u001b[0;34m:\u001b[0m\u001b[0;34m\u001b[0m\u001b[0;34m\u001b[0m\u001b[0m\n",
      "\u001b[0;31mMySQLInterfaceError\u001b[0m: You have an error in your SQL syntax; check the manual that corresponds to your MySQL server version for the right syntax to use near 'DATABASE' at line 1",
      "\nDuring handling of the above exception, another exception occurred:\n",
      "\u001b[0;31mProgrammingError\u001b[0m                          Traceback (most recent call last)",
      "\u001b[0;32m<ipython-input-24-cd2685ac5e2d>\u001b[0m in \u001b[0;36m<module>\u001b[0;34m\u001b[0m\n\u001b[1;32m      1\u001b[0m \u001b[0mcursor\u001b[0m \u001b[0;34m=\u001b[0m \u001b[0mconn\u001b[0m\u001b[0;34m.\u001b[0m\u001b[0mcursor\u001b[0m\u001b[0;34m(\u001b[0m\u001b[0;34m)\u001b[0m\u001b[0;34m\u001b[0m\u001b[0;34m\u001b[0m\u001b[0m\n\u001b[0;32m----> 2\u001b[0;31m \u001b[0mcursor\u001b[0m\u001b[0;34m.\u001b[0m\u001b[0mexecute\u001b[0m\u001b[0;34m(\u001b[0m\u001b[0;34m'SHOW DATABASE'\u001b[0m\u001b[0;34m)\u001b[0m\u001b[0;34m\u001b[0m\u001b[0;34m\u001b[0m\u001b[0m\n\u001b[0m",
      "\u001b[0;32m/anaconda3/lib/python3.7/site-packages/mysql/connector/cursor_cext.py\u001b[0m in \u001b[0;36mexecute\u001b[0;34m(self, operation, params, multi)\u001b[0m\n\u001b[1;32m    264\u001b[0m             result = self._cnx.cmd_query(stmt, raw=self._raw,\n\u001b[1;32m    265\u001b[0m                                          \u001b[0mbuffered\u001b[0m\u001b[0;34m=\u001b[0m\u001b[0mself\u001b[0m\u001b[0;34m.\u001b[0m\u001b[0m_buffered\u001b[0m\u001b[0;34m,\u001b[0m\u001b[0;34m\u001b[0m\u001b[0;34m\u001b[0m\u001b[0m\n\u001b[0;32m--> 266\u001b[0;31m                                          raw_as_string=self._raw_as_string)\n\u001b[0m\u001b[1;32m    267\u001b[0m         \u001b[0;32mexcept\u001b[0m \u001b[0mMySQLInterfaceError\u001b[0m \u001b[0;32mas\u001b[0m \u001b[0mexc\u001b[0m\u001b[0;34m:\u001b[0m\u001b[0;34m\u001b[0m\u001b[0;34m\u001b[0m\u001b[0m\n\u001b[1;32m    268\u001b[0m             raise errors.get_mysql_exception(msg=exc.msg, errno=exc.errno,\n",
      "\u001b[0;32m/anaconda3/lib/python3.7/site-packages/mysql/connector/connection_cext.py\u001b[0m in \u001b[0;36mcmd_query\u001b[0;34m(self, query, raw, buffered, raw_as_string)\u001b[0m\n\u001b[1;32m    490\u001b[0m         \u001b[0;32mexcept\u001b[0m \u001b[0mMySQLInterfaceError\u001b[0m \u001b[0;32mas\u001b[0m \u001b[0mexc\u001b[0m\u001b[0;34m:\u001b[0m\u001b[0;34m\u001b[0m\u001b[0;34m\u001b[0m\u001b[0m\n\u001b[1;32m    491\u001b[0m             raise errors.get_mysql_exception(exc.errno, msg=exc.msg,\n\u001b[0;32m--> 492\u001b[0;31m                                              sqlstate=exc.sqlstate)\n\u001b[0m\u001b[1;32m    493\u001b[0m         \u001b[0;32mexcept\u001b[0m \u001b[0mAttributeError\u001b[0m\u001b[0;34m:\u001b[0m\u001b[0;34m\u001b[0m\u001b[0;34m\u001b[0m\u001b[0m\n\u001b[1;32m    494\u001b[0m             \u001b[0;32mif\u001b[0m \u001b[0mself\u001b[0m\u001b[0;34m.\u001b[0m\u001b[0m_unix_socket\u001b[0m\u001b[0;34m:\u001b[0m\u001b[0;34m\u001b[0m\u001b[0;34m\u001b[0m\u001b[0m\n",
      "\u001b[0;31mProgrammingError\u001b[0m: 1064 (42000): You have an error in your SQL syntax; check the manual that corresponds to your MySQL server version for the right syntax to use near 'DATABASE' at line 1"
     ]
    }
   ],
   "source": [
    "cursor = conn.cursor()\n",
    "cursor.execute('SHOW DATABASE')"
   ]
  },
  {
   "cell_type": "code",
   "execution_count": 23,
   "metadata": {
    "ExecuteTime": {
     "end_time": "2020-08-25T05:25:36.148343Z",
     "start_time": "2020-08-25T05:25:36.086680Z"
    }
   },
   "outputs": [
    {
     "ename": "ProgrammingError",
     "evalue": "1064 (42000): You have an error in your SQL syntax; check the manual that corresponds to your MySQL server version for the right syntax to use near 'DATABASE' at line 1",
     "output_type": "error",
     "traceback": [
      "\u001b[0;31m---------------------------------------------------------------------------\u001b[0m",
      "\u001b[0;31mMySQLInterfaceError\u001b[0m                       Traceback (most recent call last)",
      "\u001b[0;32m/anaconda3/lib/python3.7/site-packages/mysql/connector/connection_cext.py\u001b[0m in \u001b[0;36mcmd_query\u001b[0;34m(self, query, raw, buffered, raw_as_string)\u001b[0m\n\u001b[1;32m    488\u001b[0m                                \u001b[0mraw\u001b[0m\u001b[0;34m=\u001b[0m\u001b[0mraw\u001b[0m\u001b[0;34m,\u001b[0m \u001b[0mbuffered\u001b[0m\u001b[0;34m=\u001b[0m\u001b[0mbuffered\u001b[0m\u001b[0;34m,\u001b[0m\u001b[0;34m\u001b[0m\u001b[0;34m\u001b[0m\u001b[0m\n\u001b[0;32m--> 489\u001b[0;31m                                raw_as_string=raw_as_string)\n\u001b[0m\u001b[1;32m    490\u001b[0m         \u001b[0;32mexcept\u001b[0m \u001b[0mMySQLInterfaceError\u001b[0m \u001b[0;32mas\u001b[0m \u001b[0mexc\u001b[0m\u001b[0;34m:\u001b[0m\u001b[0;34m\u001b[0m\u001b[0;34m\u001b[0m\u001b[0m\n",
      "\u001b[0;31mMySQLInterfaceError\u001b[0m: You have an error in your SQL syntax; check the manual that corresponds to your MySQL server version for the right syntax to use near 'DATABASE' at line 1",
      "\nDuring handling of the above exception, another exception occurred:\n",
      "\u001b[0;31mProgrammingError\u001b[0m                          Traceback (most recent call last)",
      "\u001b[0;32m<ipython-input-23-cf1244f71de1>\u001b[0m in \u001b[0;36m<module>\u001b[0;34m\u001b[0m\n\u001b[1;32m      1\u001b[0m \u001b[0mcursor\u001b[0m \u001b[0;34m=\u001b[0m \u001b[0mconn\u001b[0m\u001b[0;34m.\u001b[0m\u001b[0mcursor\u001b[0m\u001b[0;34m(\u001b[0m\u001b[0;34m)\u001b[0m\u001b[0;34m\u001b[0m\u001b[0;34m\u001b[0m\u001b[0m\n\u001b[0;32m----> 2\u001b[0;31m \u001b[0mcursor\u001b[0m\u001b[0;34m.\u001b[0m\u001b[0mexecute\u001b[0m\u001b[0;34m(\u001b[0m\u001b[0;34m'SHOW DATABASE'\u001b[0m\u001b[0;34m)\u001b[0m\u001b[0;34m\u001b[0m\u001b[0;34m\u001b[0m\u001b[0m\n\u001b[0m\u001b[1;32m      3\u001b[0m \u001b[0mfound\u001b[0m \u001b[0;34m=\u001b[0m \u001b[0;32mFalse\u001b[0m\u001b[0;34m\u001b[0m\u001b[0;34m\u001b[0m\u001b[0m\n\u001b[1;32m      4\u001b[0m \u001b[0;32mfor\u001b[0m \u001b[0mdb\u001b[0m \u001b[0;32min\u001b[0m \u001b[0mcursor\u001b[0m\u001b[0;34m:\u001b[0m\u001b[0;34m\u001b[0m\u001b[0;34m\u001b[0m\u001b[0m\n\u001b[1;32m      5\u001b[0m     \u001b[0mpattern\u001b[0m \u001b[0;34m=\u001b[0m \u001b[0;34m\"[(,')]\"\u001b[0m\u001b[0;34m\u001b[0m\u001b[0;34m\u001b[0m\u001b[0m\n",
      "\u001b[0;32m/anaconda3/lib/python3.7/site-packages/mysql/connector/cursor_cext.py\u001b[0m in \u001b[0;36mexecute\u001b[0;34m(self, operation, params, multi)\u001b[0m\n\u001b[1;32m    264\u001b[0m             result = self._cnx.cmd_query(stmt, raw=self._raw,\n\u001b[1;32m    265\u001b[0m                                          \u001b[0mbuffered\u001b[0m\u001b[0;34m=\u001b[0m\u001b[0mself\u001b[0m\u001b[0;34m.\u001b[0m\u001b[0m_buffered\u001b[0m\u001b[0;34m,\u001b[0m\u001b[0;34m\u001b[0m\u001b[0;34m\u001b[0m\u001b[0m\n\u001b[0;32m--> 266\u001b[0;31m                                          raw_as_string=self._raw_as_string)\n\u001b[0m\u001b[1;32m    267\u001b[0m         \u001b[0;32mexcept\u001b[0m \u001b[0mMySQLInterfaceError\u001b[0m \u001b[0;32mas\u001b[0m \u001b[0mexc\u001b[0m\u001b[0;34m:\u001b[0m\u001b[0;34m\u001b[0m\u001b[0;34m\u001b[0m\u001b[0m\n\u001b[1;32m    268\u001b[0m             raise errors.get_mysql_exception(msg=exc.msg, errno=exc.errno,\n",
      "\u001b[0;32m/anaconda3/lib/python3.7/site-packages/mysql/connector/connection_cext.py\u001b[0m in \u001b[0;36mcmd_query\u001b[0;34m(self, query, raw, buffered, raw_as_string)\u001b[0m\n\u001b[1;32m    490\u001b[0m         \u001b[0;32mexcept\u001b[0m \u001b[0mMySQLInterfaceError\u001b[0m \u001b[0;32mas\u001b[0m \u001b[0mexc\u001b[0m\u001b[0;34m:\u001b[0m\u001b[0;34m\u001b[0m\u001b[0;34m\u001b[0m\u001b[0m\n\u001b[1;32m    491\u001b[0m             raise errors.get_mysql_exception(exc.errno, msg=exc.msg,\n\u001b[0;32m--> 492\u001b[0;31m                                              sqlstate=exc.sqlstate)\n\u001b[0m\u001b[1;32m    493\u001b[0m         \u001b[0;32mexcept\u001b[0m \u001b[0mAttributeError\u001b[0m\u001b[0;34m:\u001b[0m\u001b[0;34m\u001b[0m\u001b[0;34m\u001b[0m\u001b[0m\n\u001b[1;32m    494\u001b[0m             \u001b[0;32mif\u001b[0m \u001b[0mself\u001b[0m\u001b[0;34m.\u001b[0m\u001b[0m_unix_socket\u001b[0m\u001b[0;34m:\u001b[0m\u001b[0;34m\u001b[0m\u001b[0;34m\u001b[0m\u001b[0m\n",
      "\u001b[0;31mProgrammingError\u001b[0m: 1064 (42000): You have an error in your SQL syntax; check the manual that corresponds to your MySQL server version for the right syntax to use near 'DATABASE' at line 1"
     ]
    }
   ],
   "source": [
    "cursor = conn.cursor()\n",
    "cursor.execute('SHOW DATABASE')\n",
    "found = False\n",
    "for db in cursor:\n",
    "    pattern = \"[(,')]\"\n",
    "    db_string = re.sub(pattern, '', str(db))\n",
    "    if (db_string == 'vocab'):\n",
    "        found = True\n",
    "        print('database vocab exists')\n",
    "if (not found):\n",
    "    cursor.execute('CREATE DATABASE vocab')"
   ]
  },
  {
   "cell_type": "code",
   "execution_count": 21,
   "metadata": {
    "ExecuteTime": {
     "end_time": "2020-08-25T05:24:58.707849Z",
     "start_time": "2020-08-25T05:24:58.591893Z"
    }
   },
   "outputs": [
    {
     "data": {
      "text/plain": [
       "<mysql.connector.connection_cext.CMySQLConnection at 0x10d1dc400>"
      ]
     },
     "execution_count": 21,
     "metadata": {},
     "output_type": "execute_result"
    }
   ],
   "source": [
    ">>> import mysql.connector\n",
    ">>> mysql.connector.connect(host='localhost'\n",
    "                            ,database='mysql',\n",
    "                            user='root',\n",
    "                            password='Pb13007114')"
   ]
  },
  {
   "cell_type": "code",
   "execution_count": null,
   "metadata": {},
   "outputs": [],
   "source": []
  }
 ],
 "metadata": {
  "hide_input": false,
  "kernelspec": {
   "display_name": "Python 3",
   "language": "python",
   "name": "python3"
  },
  "language_info": {
   "codemirror_mode": {
    "name": "ipython",
    "version": 3
   },
   "file_extension": ".py",
   "mimetype": "text/x-python",
   "name": "python",
   "nbconvert_exporter": "python",
   "pygments_lexer": "ipython3",
   "version": "3.7.3"
  },
  "toc": {
   "base_numbering": 1,
   "nav_menu": {},
   "number_sections": true,
   "sideBar": true,
   "skip_h1_title": false,
   "title_cell": "Table of Contents",
   "title_sidebar": "Contents",
   "toc_cell": false,
   "toc_position": {},
   "toc_section_display": true,
   "toc_window_display": false
  }
 },
 "nbformat": 4,
 "nbformat_minor": 2
}
