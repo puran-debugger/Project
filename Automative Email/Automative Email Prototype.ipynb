{
 "cells": [
  {
   "cell_type": "markdown",
   "metadata": {},
   "source": [
    "@ Puran Zhang\n",
    "### Preparation"
   ]
  },
  {
   "cell_type": "code",
   "execution_count": null,
   "metadata": {
    "ExecuteTime": {
     "end_time": "2020-08-28T07:42:32.738616Z",
     "start_time": "2020-08-28T07:42:32.715970Z"
    }
   },
   "outputs": [],
   "source": [
    "import smtplib\n",
    "import email\n",
    "# text\n",
    "from email.mime.text import MIMEText\n",
    "# image\n",
    "from email.mime.image import MIMEImage\n",
    "# multi part\n",
    "from email.mime.multipart import MIMEMultipart\n",
    "from email.header import Header"
   ]
  },
  {
   "cell_type": "markdown",
   "metadata": {},
   "source": [
    "### Set "
   ]
  },
  {
   "cell_type": "code",
   "execution_count": null,
   "metadata": {
    "ExecuteTime": {
     "end_time": "2020-08-28T07:44:48.243309Z",
     "start_time": "2020-08-28T07:44:48.238627Z"
    }
   },
   "outputs": [],
   "source": [
    "# SMTP server, sample\n",
    "mail_host = \"smtp.163.com\"\n",
    "# sender email\n",
    "mail_sender = \"******@163.com\"\n",
    "# mail license, not password of email \n",
    "mail_license = \"********\"\n",
    "# mutiple receivers\n",
    "mail_receivers = [\"******@qq.com\",\"******@outlook.com\"]"
   ]
  },
  {
   "cell_type": "markdown",
   "metadata": {},
   "source": [
    "### Construct Email"
   ]
  },
  {
   "cell_type": "code",
   "execution_count": null,
   "metadata": {
    "ExecuteTime": {
     "end_time": "2020-08-28T07:46:56.547184Z",
     "start_time": "2020-08-28T07:46:56.544063Z"
    }
   },
   "outputs": [],
   "source": [
    "email= MIMEMultipart('related')"
   ]
  },
  {
   "cell_type": "markdown",
   "metadata": {},
   "source": [
    "### Set Headline"
   ]
  },
  {
   "cell_type": "code",
   "execution_count": null,
   "metadata": {
    "ExecuteTime": {
     "end_time": "2020-08-28T07:49:15.292027Z",
     "start_time": "2020-08-28T07:49:15.288496Z"
    }
   },
   "outputs": [],
   "source": [
    "# Theme\n",
    "subject_content = \"\"\"Python email Test\"\"\"\n",
    "# sender email\n",
    "email[\"From\"] = \"sender_name<******@163.com>\"\n",
    "# receiever email\n",
    "email[\"To\"] = \"receiver_1_name<******@qq.com>,receiver_2_name<******@outlook.com>\"\n",
    "# Set Theme\n",
    "email[\"Subject\"] = Header(subject_content,'utf-8')"
   ]
  },
  {
   "cell_type": "markdown",
   "metadata": {},
   "source": [
    "### Email Text\n"
   ]
  },
  {
   "cell_type": "code",
   "execution_count": null,
   "metadata": {
    "ExecuteTime": {
     "end_time": "2020-08-28T23:38:28.468882Z",
     "start_time": "2020-08-28T23:38:28.461861Z"
    }
   },
   "outputs": [],
   "source": [
    "body_content = \"\"\"Hi, this is a test email!\"\"\"\n",
    "# (content,text-pattern, codetype) \n",
    "message_text = MIMEText(body_content,\"plain\",\"utf-8\")\n",
    "# 向MIMEMultipart对象中添加文本对象\n",
    "email.attach(message_text)"
   ]
  },
  {
   "cell_type": "markdown",
   "metadata": {},
   "source": [
    "### Attach Picture\n"
   ]
  },
  {
   "cell_type": "code",
   "execution_count": null,
   "metadata": {
    "ExecuteTime": {
     "end_time": "2020-08-28T23:40:20.672353Z",
     "start_time": "2020-08-28T23:40:20.651551Z"
    }
   },
   "outputs": [],
   "source": [
    "# Binary read picture\n",
    "image_data = open('unknown.jpg','rb')\n",
    "# \n",
    "message_image = MIMEImage(image_data.read())\n",
    "# close image\n",
    "image_data.close()\n",
    "# attach\n",
    "email.attach(message_image)"
   ]
  },
  {
   "cell_type": "markdown",
   "metadata": {},
   "source": [
    "### Attach Excel"
   ]
  },
  {
   "cell_type": "code",
   "execution_count": null,
   "metadata": {},
   "outputs": [],
   "source": [
    "atta = MIMEText(open('sample.xlsx', 'rb').read(), 'base64', 'utf-8')\n",
    "# set information of attachment\n",
    "atta[\"Content-Disposition\"] = 'attachment; filename=\"sample.xlsx\"'\n",
    "# attach\n",
    "email.attach(atta)"
   ]
  },
  {
   "cell_type": "markdown",
   "metadata": {},
   "source": [
    "### Sent Email"
   ]
  },
  {
   "cell_type": "code",
   "execution_count": null,
   "metadata": {},
   "outputs": [],
   "source": [
    "# create SMTP\n",
    "stp = smtplib.SMTP()\n",
    "# Set the domain name and port of the sender's mailbox, the port address is 25\n",
    "stp.connect(mail_host, 25)  \n",
    "# set_debuglevel(1) Can print out all the information interacting with the SMTP server\n",
    "stp.set_debuglevel(1)\n",
    "# Log in to the mailbox, pass parameter 1: mailbox address, parameter 2: mailbox authorization code\n",
    "stp.login(mail_sender,mail_license)\n",
    "# Send mail, pass parameter 1: sender's email address, parameter 2: recipient's email address, \n",
    "# parameter 3: change the email content format to str\n",
    "stp.sendmail(mail_sender, mail_receivers, mm.as_string())\n",
    "print(\"Sent successfully\")\n",
    "# quit SMTP\n",
    "stp.quit()"
   ]
  }
 ],
 "metadata": {
  "hide_input": false,
  "kernelspec": {
   "display_name": "Python 3",
   "language": "python",
   "name": "python3"
  },
  "language_info": {
   "codemirror_mode": {
    "name": "ipython",
    "version": 3
   },
   "file_extension": ".py",
   "mimetype": "text/x-python",
   "name": "python",
   "nbconvert_exporter": "python",
   "pygments_lexer": "ipython3",
   "version": "3.7.3"
  },
  "toc": {
   "base_numbering": 1,
   "nav_menu": {},
   "number_sections": true,
   "sideBar": true,
   "skip_h1_title": false,
   "title_cell": "Table of Contents",
   "title_sidebar": "Contents",
   "toc_cell": false,
   "toc_position": {},
   "toc_section_display": true,
   "toc_window_display": false
  }
 },
 "nbformat": 4,
 "nbformat_minor": 2
}
