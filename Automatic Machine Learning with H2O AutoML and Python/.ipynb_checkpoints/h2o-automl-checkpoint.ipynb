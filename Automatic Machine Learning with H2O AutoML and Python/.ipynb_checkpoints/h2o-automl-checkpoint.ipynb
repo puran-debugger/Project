{
 "cells": [
  {
   "cell_type": "markdown",
   "metadata": {},
   "source": [
    "**H2O Machine Learning Platform**<br>\n",
    "* Open source, distribution (multi-core + multi-node)\n",
    "* Core algorithms written in high performance Java\n",
    "* APIs available in R, Python, Scala, Web GUI\n",
    "* Easily deploy models to production as pure Java code\n",
    "* Works on Hadoop, Spark, AWS, laptop\n",
    "\n",
    "**H2O Cluster**: a block of memory where all computations are going to happen and all the data lives here<br>\n",
    "* Multi-node cluster with shared memory model\n",
    "* All computations in memory\n",
    "* Each node sees only rows of the data\n",
    "* No limit on cluster size\n",
    "\n",
    "**H2O Frame**<br>\n",
    "* Distributed data frames (collection of vectors)\n",
    "* Columns are distributed (across nodes) arrays\n",
    "* Works just like R's data.frame or Python Pandas DataFrame\n",
    "\n",
    "**H2O AutoML functionalities**<br>\n",
    "H2O’s AutoML is equipped with the following functionalities:\n",
    "* Necessary data pre-processing capabilities( as in all H2O algorithms )\n",
    "    * H2O AutoML takes care of data imputation, one-hot encoding, and standardization as part of data preprocessing\n",
    "* Trains a Random grid of algorithms like GBMs, DNNs, GLMs, etc. using a carefully chosen hyper-parameter space.\n",
    "    * H2O AutoML automates the process of training and tuning various families of models using random grid search. Random grid search combined with stacked ensembles is a powerful combination.\n",
    "* Individual models are tuned using cross-validation.\n",
    "* Two Stacked Ensembles are trained. One ensemble contains all the models (optimized for model performance), and the other ensemble provides just the best performing model from each algorithm class/family (optimized for production use)\n",
    "    * Ensembles often out-perform individual models. H2O AutoML trains two ensembles using stacking. Ensembles perform particularly well if the models they are based on:1.are individualy strong, and 2. make uncorrelated errors\n",
    "    *  Stacking uses a second-level metalearning algorithm to find the optimal combination of base learners.\n",
    "* Returns a sorted “Leaderboard” of all models.\n",
    "* All models can be easily exported to production.\n",
    "\n",
    "\n",
    "The purpose of AutoML is to automate the repetitive tasks like pipeline creation and hyperparameter tuning so that data scientists can spend more of their time on the business problem at hand. AutoML also aims to make the technology available to everybody rather than a select few. AutoML and data scientists can work in conjunction to accelerate the ML process so that the real effectiveness of machine learning can be utilized."
   ]
  },
  {
   "cell_type": "markdown",
   "metadata": {},
   "source": [
    "<h2 align=\"center\">Automatic Machine Learning with H2O AutoML</h2>"
   ]
  },
  {
   "cell_type": "markdown",
   "metadata": {},
   "source": [
    "### Importing Packages"
   ]
  },
  {
   "cell_type": "code",
   "execution_count": 1,
   "metadata": {
    "ExecuteTime": {
     "end_time": "2020-10-28T23:29:33.630588Z",
     "start_time": "2020-10-28T23:29:32.713993Z"
    }
   },
   "outputs": [],
   "source": [
    "import pandas as pd\n",
    "pd.options.display.max_rows = 999\n",
    "import numpy as np\n",
    "import matplotlib.pyplot as plt"
   ]
  },
  {
   "cell_type": "markdown",
   "metadata": {},
   "source": [
    " "
   ]
  },
  {
   "cell_type": "markdown",
   "metadata": {},
   "source": [
    "###  Loading and Exploring the Data"
   ]
  },
  {
   "cell_type": "code",
   "execution_count": 2,
   "metadata": {
    "ExecuteTime": {
     "end_time": "2020-10-28T23:43:08.754706Z",
     "start_time": "2020-10-28T23:42:56.035680Z"
    }
   },
   "outputs": [],
   "source": [
    "xls = pd.ExcelFile('bank_term_deposit_marketing_analysis.xlsx')"
   ]
  },
  {
   "cell_type": "code",
   "execution_count": 3,
   "metadata": {
    "ExecuteTime": {
     "end_time": "2020-10-28T23:43:50.783596Z",
     "start_time": "2020-10-28T23:43:50.778117Z"
    }
   },
   "outputs": [
    {
     "data": {
      "text/plain": [
       "['PROCEDURE',\n",
       " 'DATA DESCRIPTION',\n",
       " 'Step 1 - Collect Information',\n",
       " 'CLIENT_INFO',\n",
       " 'LOAN_HISTORY',\n",
       " 'MARKETING HISTORY',\n",
       " 'SUBSCRIPTION HISTORY',\n",
       " 'Step 2 - Merge Information',\n",
       " 'CLIENT_MERGE',\n",
       " 'Step 3 - Marketing Analysis',\n",
       " 'DAILY RANGE',\n",
       " 'JOB ANALYSIS',\n",
       " 'Sheet3']"
      ]
     },
     "execution_count": 3,
     "metadata": {},
     "output_type": "execute_result"
    }
   ],
   "source": [
    "xls.sheet_names"
   ]
  },
  {
   "cell_type": "code",
   "execution_count": 8,
   "metadata": {
    "ExecuteTime": {
     "end_time": "2020-10-28T23:51:34.701078Z",
     "start_time": "2020-10-28T23:51:33.929103Z"
    }
   },
   "outputs": [],
   "source": [
    "client_info = pd.read_excel(xls, 'CLIENT_INFO')\n",
    "loan_history = pd.read_excel(xls, 'LOAN_HISTORY')\n",
    "marketing_history = pd.read_excel(xls, 'MARKETING HISTORY')\n",
    "subscription_history = pd.read_excel(xls, 'SUBSCRIPTION HISTORY')"
   ]
  },
  {
   "cell_type": "code",
   "execution_count": 9,
   "metadata": {
    "ExecuteTime": {
     "end_time": "2020-10-28T23:51:41.400580Z",
     "start_time": "2020-10-28T23:51:41.368926Z"
    }
   },
   "outputs": [
    {
     "name": "stdout",
     "output_type": "stream",
     "text": [
      "<class 'pandas.core.frame.DataFrame'>\n",
      "RangeIndex: 45211 entries, 0 to 45210\n",
      "Data columns (total 5 columns):\n",
      " #   Column     Non-Null Count  Dtype \n",
      "---  ------     --------------  ----- \n",
      " 0   ID         45211 non-null  int64 \n",
      " 1   AGE        45211 non-null  int64 \n",
      " 2   JOB        45211 non-null  object\n",
      " 3   MARITAL    45211 non-null  object\n",
      " 4   EDUCATION  45211 non-null  object\n",
      "dtypes: int64(2), object(3)\n",
      "memory usage: 1.7+ MB\n",
      "None\n"
     ]
    },
    {
     "data": {
      "text/html": [
       "<div>\n",
       "<style scoped>\n",
       "    .dataframe tbody tr th:only-of-type {\n",
       "        vertical-align: middle;\n",
       "    }\n",
       "\n",
       "    .dataframe tbody tr th {\n",
       "        vertical-align: top;\n",
       "    }\n",
       "\n",
       "    .dataframe thead th {\n",
       "        text-align: right;\n",
       "    }\n",
       "</style>\n",
       "<table border=\"1\" class=\"dataframe\">\n",
       "  <thead>\n",
       "    <tr style=\"text-align: right;\">\n",
       "      <th></th>\n",
       "      <th>ID</th>\n",
       "      <th>AGE</th>\n",
       "      <th>JOB</th>\n",
       "      <th>MARITAL</th>\n",
       "      <th>EDUCATION</th>\n",
       "    </tr>\n",
       "  </thead>\n",
       "  <tbody>\n",
       "    <tr>\n",
       "      <th>0</th>\n",
       "      <td>2836</td>\n",
       "      <td>58</td>\n",
       "      <td>management</td>\n",
       "      <td>married</td>\n",
       "      <td>tertiary</td>\n",
       "    </tr>\n",
       "    <tr>\n",
       "      <th>1</th>\n",
       "      <td>2837</td>\n",
       "      <td>44</td>\n",
       "      <td>technician</td>\n",
       "      <td>single</td>\n",
       "      <td>secondary</td>\n",
       "    </tr>\n",
       "    <tr>\n",
       "      <th>2</th>\n",
       "      <td>2838</td>\n",
       "      <td>33</td>\n",
       "      <td>entrepreneur</td>\n",
       "      <td>married</td>\n",
       "      <td>secondary</td>\n",
       "    </tr>\n",
       "    <tr>\n",
       "      <th>3</th>\n",
       "      <td>2839</td>\n",
       "      <td>47</td>\n",
       "      <td>blue-collar</td>\n",
       "      <td>married</td>\n",
       "      <td>unknown</td>\n",
       "    </tr>\n",
       "    <tr>\n",
       "      <th>4</th>\n",
       "      <td>2840</td>\n",
       "      <td>33</td>\n",
       "      <td>unknown</td>\n",
       "      <td>single</td>\n",
       "      <td>unknown</td>\n",
       "    </tr>\n",
       "  </tbody>\n",
       "</table>\n",
       "</div>"
      ],
      "text/plain": [
       "     ID  AGE           JOB  MARITAL  EDUCATION\n",
       "0  2836   58    management  married   tertiary\n",
       "1  2837   44    technician   single  secondary\n",
       "2  2838   33  entrepreneur  married  secondary\n",
       "3  2839   47   blue-collar  married    unknown\n",
       "4  2840   33       unknown   single    unknown"
      ]
     },
     "execution_count": 9,
     "metadata": {},
     "output_type": "execute_result"
    }
   ],
   "source": [
    "print(client_info.info())\n",
    "client_info.head()"
   ]
  },
  {
   "cell_type": "code",
   "execution_count": 10,
   "metadata": {
    "ExecuteTime": {
     "end_time": "2020-10-29T00:08:53.575685Z",
     "start_time": "2020-10-29T00:08:53.549004Z"
    }
   },
   "outputs": [
    {
     "name": "stdout",
     "output_type": "stream",
     "text": [
      "<class 'pandas.core.frame.DataFrame'>\n",
      "RangeIndex: 45211 entries, 0 to 45210\n",
      "Data columns (total 5 columns):\n",
      " #   Column   Non-Null Count  Dtype \n",
      "---  ------   --------------  ----- \n",
      " 0   ID       45211 non-null  int64 \n",
      " 1   DEFAULT  45211 non-null  object\n",
      " 2   BALANCE  45211 non-null  int64 \n",
      " 3   HOUSING  45211 non-null  object\n",
      " 4   LOAN     45211 non-null  object\n",
      "dtypes: int64(2), object(3)\n",
      "memory usage: 1.7+ MB\n",
      "None\n"
     ]
    },
    {
     "data": {
      "text/html": [
       "<div>\n",
       "<style scoped>\n",
       "    .dataframe tbody tr th:only-of-type {\n",
       "        vertical-align: middle;\n",
       "    }\n",
       "\n",
       "    .dataframe tbody tr th {\n",
       "        vertical-align: top;\n",
       "    }\n",
       "\n",
       "    .dataframe thead th {\n",
       "        text-align: right;\n",
       "    }\n",
       "</style>\n",
       "<table border=\"1\" class=\"dataframe\">\n",
       "  <thead>\n",
       "    <tr style=\"text-align: right;\">\n",
       "      <th></th>\n",
       "      <th>ID</th>\n",
       "      <th>DEFAULT</th>\n",
       "      <th>BALANCE</th>\n",
       "      <th>HOUSING</th>\n",
       "      <th>LOAN</th>\n",
       "    </tr>\n",
       "  </thead>\n",
       "  <tbody>\n",
       "    <tr>\n",
       "      <th>0</th>\n",
       "      <td>2836</td>\n",
       "      <td>no</td>\n",
       "      <td>2143</td>\n",
       "      <td>yes</td>\n",
       "      <td>no</td>\n",
       "    </tr>\n",
       "    <tr>\n",
       "      <th>1</th>\n",
       "      <td>2837</td>\n",
       "      <td>no</td>\n",
       "      <td>29</td>\n",
       "      <td>yes</td>\n",
       "      <td>no</td>\n",
       "    </tr>\n",
       "    <tr>\n",
       "      <th>2</th>\n",
       "      <td>2838</td>\n",
       "      <td>no</td>\n",
       "      <td>2</td>\n",
       "      <td>yes</td>\n",
       "      <td>yes</td>\n",
       "    </tr>\n",
       "    <tr>\n",
       "      <th>3</th>\n",
       "      <td>2839</td>\n",
       "      <td>no</td>\n",
       "      <td>1506</td>\n",
       "      <td>yes</td>\n",
       "      <td>no</td>\n",
       "    </tr>\n",
       "    <tr>\n",
       "      <th>4</th>\n",
       "      <td>2840</td>\n",
       "      <td>no</td>\n",
       "      <td>1</td>\n",
       "      <td>no</td>\n",
       "      <td>no</td>\n",
       "    </tr>\n",
       "  </tbody>\n",
       "</table>\n",
       "</div>"
      ],
      "text/plain": [
       "     ID DEFAULT  BALANCE HOUSING LOAN\n",
       "0  2836      no     2143     yes   no\n",
       "1  2837      no       29     yes   no\n",
       "2  2838      no        2     yes  yes\n",
       "3  2839      no     1506     yes   no\n",
       "4  2840      no        1      no   no"
      ]
     },
     "execution_count": 10,
     "metadata": {},
     "output_type": "execute_result"
    }
   ],
   "source": [
    "print(loan_history.info())\n",
    "loan_history.head()"
   ]
  },
  {
   "cell_type": "code",
   "execution_count": 11,
   "metadata": {
    "ExecuteTime": {
     "end_time": "2020-10-29T00:09:23.995539Z",
     "start_time": "2020-10-29T00:09:23.969531Z"
    }
   },
   "outputs": [
    {
     "name": "stdout",
     "output_type": "stream",
     "text": [
      "<class 'pandas.core.frame.DataFrame'>\n",
      "RangeIndex: 45211 entries, 0 to 45210\n",
      "Data columns (total 9 columns):\n",
      " #   Column    Non-Null Count  Dtype \n",
      "---  ------    --------------  ----- \n",
      " 0   ID        45211 non-null  int64 \n",
      " 1   CONTACT   45211 non-null  object\n",
      " 2   DAY       45211 non-null  int64 \n",
      " 3   MONTH     45211 non-null  object\n",
      " 4   DURATION  45211 non-null  int64 \n",
      " 5   CAMPAIGN  45211 non-null  int64 \n",
      " 6   PDAYS     45211 non-null  int64 \n",
      " 7   PREVIOUS  45211 non-null  int64 \n",
      " 8   POUTCOME  45211 non-null  object\n",
      "dtypes: int64(6), object(3)\n",
      "memory usage: 3.1+ MB\n",
      "None\n"
     ]
    },
    {
     "data": {
      "text/html": [
       "<div>\n",
       "<style scoped>\n",
       "    .dataframe tbody tr th:only-of-type {\n",
       "        vertical-align: middle;\n",
       "    }\n",
       "\n",
       "    .dataframe tbody tr th {\n",
       "        vertical-align: top;\n",
       "    }\n",
       "\n",
       "    .dataframe thead th {\n",
       "        text-align: right;\n",
       "    }\n",
       "</style>\n",
       "<table border=\"1\" class=\"dataframe\">\n",
       "  <thead>\n",
       "    <tr style=\"text-align: right;\">\n",
       "      <th></th>\n",
       "      <th>ID</th>\n",
       "      <th>CONTACT</th>\n",
       "      <th>DAY</th>\n",
       "      <th>MONTH</th>\n",
       "      <th>DURATION</th>\n",
       "      <th>CAMPAIGN</th>\n",
       "      <th>PDAYS</th>\n",
       "      <th>PREVIOUS</th>\n",
       "      <th>POUTCOME</th>\n",
       "    </tr>\n",
       "  </thead>\n",
       "  <tbody>\n",
       "    <tr>\n",
       "      <th>0</th>\n",
       "      <td>2836</td>\n",
       "      <td>unknown</td>\n",
       "      <td>5</td>\n",
       "      <td>may</td>\n",
       "      <td>261</td>\n",
       "      <td>1</td>\n",
       "      <td>-1</td>\n",
       "      <td>0</td>\n",
       "      <td>unknown</td>\n",
       "    </tr>\n",
       "    <tr>\n",
       "      <th>1</th>\n",
       "      <td>2837</td>\n",
       "      <td>unknown</td>\n",
       "      <td>5</td>\n",
       "      <td>may</td>\n",
       "      <td>151</td>\n",
       "      <td>1</td>\n",
       "      <td>-1</td>\n",
       "      <td>0</td>\n",
       "      <td>unknown</td>\n",
       "    </tr>\n",
       "    <tr>\n",
       "      <th>2</th>\n",
       "      <td>2838</td>\n",
       "      <td>unknown</td>\n",
       "      <td>5</td>\n",
       "      <td>may</td>\n",
       "      <td>76</td>\n",
       "      <td>1</td>\n",
       "      <td>-1</td>\n",
       "      <td>0</td>\n",
       "      <td>unknown</td>\n",
       "    </tr>\n",
       "    <tr>\n",
       "      <th>3</th>\n",
       "      <td>2839</td>\n",
       "      <td>unknown</td>\n",
       "      <td>5</td>\n",
       "      <td>may</td>\n",
       "      <td>92</td>\n",
       "      <td>1</td>\n",
       "      <td>-1</td>\n",
       "      <td>0</td>\n",
       "      <td>unknown</td>\n",
       "    </tr>\n",
       "    <tr>\n",
       "      <th>4</th>\n",
       "      <td>2840</td>\n",
       "      <td>unknown</td>\n",
       "      <td>5</td>\n",
       "      <td>may</td>\n",
       "      <td>198</td>\n",
       "      <td>1</td>\n",
       "      <td>-1</td>\n",
       "      <td>0</td>\n",
       "      <td>unknown</td>\n",
       "    </tr>\n",
       "  </tbody>\n",
       "</table>\n",
       "</div>"
      ],
      "text/plain": [
       "     ID  CONTACT  DAY MONTH  DURATION  CAMPAIGN  PDAYS  PREVIOUS POUTCOME\n",
       "0  2836  unknown    5   may       261         1     -1         0  unknown\n",
       "1  2837  unknown    5   may       151         1     -1         0  unknown\n",
       "2  2838  unknown    5   may        76         1     -1         0  unknown\n",
       "3  2839  unknown    5   may        92         1     -1         0  unknown\n",
       "4  2840  unknown    5   may       198         1     -1         0  unknown"
      ]
     },
     "execution_count": 11,
     "metadata": {},
     "output_type": "execute_result"
    }
   ],
   "source": [
    "print(marketing_history.info())\n",
    "marketing_history.head()"
   ]
  },
  {
   "cell_type": "code",
   "execution_count": 12,
   "metadata": {
    "ExecuteTime": {
     "end_time": "2020-10-29T00:09:54.956207Z",
     "start_time": "2020-10-29T00:09:54.940562Z"
    }
   },
   "outputs": [
    {
     "name": "stdout",
     "output_type": "stream",
     "text": [
      "<class 'pandas.core.frame.DataFrame'>\n",
      "RangeIndex: 45211 entries, 0 to 45210\n",
      "Data columns (total 2 columns):\n",
      " #   Column        Non-Null Count  Dtype \n",
      "---  ------        --------------  ----- \n",
      " 0   ID            45211 non-null  int64 \n",
      " 1   TERM_DEPOSIT  45211 non-null  object\n",
      "dtypes: int64(1), object(1)\n",
      "memory usage: 706.5+ KB\n",
      "None\n"
     ]
    },
    {
     "data": {
      "text/html": [
       "<div>\n",
       "<style scoped>\n",
       "    .dataframe tbody tr th:only-of-type {\n",
       "        vertical-align: middle;\n",
       "    }\n",
       "\n",
       "    .dataframe tbody tr th {\n",
       "        vertical-align: top;\n",
       "    }\n",
       "\n",
       "    .dataframe thead th {\n",
       "        text-align: right;\n",
       "    }\n",
       "</style>\n",
       "<table border=\"1\" class=\"dataframe\">\n",
       "  <thead>\n",
       "    <tr style=\"text-align: right;\">\n",
       "      <th></th>\n",
       "      <th>ID</th>\n",
       "      <th>TERM_DEPOSIT</th>\n",
       "    </tr>\n",
       "  </thead>\n",
       "  <tbody>\n",
       "    <tr>\n",
       "      <th>0</th>\n",
       "      <td>2836</td>\n",
       "      <td>no</td>\n",
       "    </tr>\n",
       "    <tr>\n",
       "      <th>1</th>\n",
       "      <td>2837</td>\n",
       "      <td>no</td>\n",
       "    </tr>\n",
       "    <tr>\n",
       "      <th>2</th>\n",
       "      <td>2838</td>\n",
       "      <td>no</td>\n",
       "    </tr>\n",
       "    <tr>\n",
       "      <th>3</th>\n",
       "      <td>2839</td>\n",
       "      <td>no</td>\n",
       "    </tr>\n",
       "    <tr>\n",
       "      <th>4</th>\n",
       "      <td>2840</td>\n",
       "      <td>no</td>\n",
       "    </tr>\n",
       "  </tbody>\n",
       "</table>\n",
       "</div>"
      ],
      "text/plain": [
       "     ID TERM_DEPOSIT\n",
       "0  2836           no\n",
       "1  2837           no\n",
       "2  2838           no\n",
       "3  2839           no\n",
       "4  2840           no"
      ]
     },
     "execution_count": 12,
     "metadata": {},
     "output_type": "execute_result"
    }
   ],
   "source": [
    "print(subscription_history.info())\n",
    "subscription_history.head()"
   ]
  },
  {
   "cell_type": "code",
   "execution_count": 14,
   "metadata": {
    "ExecuteTime": {
     "end_time": "2020-10-29T00:30:13.172051Z",
     "start_time": "2020-10-29T00:30:13.032559Z"
    }
   },
   "outputs": [
    {
     "name": "stdout",
     "output_type": "stream",
     "text": [
      "<class 'pandas.core.frame.DataFrame'>\n",
      "Int64Index: 45211 entries, 0 to 45210\n",
      "Data columns (total 18 columns):\n",
      " #   Column        Non-Null Count  Dtype \n",
      "---  ------        --------------  ----- \n",
      " 0   ID            45211 non-null  int64 \n",
      " 1   AGE           45211 non-null  int64 \n",
      " 2   JOB           45211 non-null  object\n",
      " 3   MARITAL       45211 non-null  object\n",
      " 4   EDUCATION     45211 non-null  object\n",
      " 5   DEFAULT       45211 non-null  object\n",
      " 6   BALANCE       45211 non-null  int64 \n",
      " 7   HOUSING       45211 non-null  object\n",
      " 8   LOAN          45211 non-null  object\n",
      " 9   CONTACT       45211 non-null  object\n",
      " 10  DAY           45211 non-null  int64 \n",
      " 11  MONTH         45211 non-null  object\n",
      " 12  DURATION      45211 non-null  int64 \n",
      " 13  CAMPAIGN      45211 non-null  int64 \n",
      " 14  PDAYS         45211 non-null  int64 \n",
      " 15  PREVIOUS      45211 non-null  int64 \n",
      " 16  POUTCOME      45211 non-null  object\n",
      " 17  TERM_DEPOSIT  45211 non-null  object\n",
      "dtypes: int64(8), object(10)\n",
      "memory usage: 6.6+ MB\n",
      "None\n"
     ]
    },
    {
     "data": {
      "text/html": [
       "<div>\n",
       "<style scoped>\n",
       "    .dataframe tbody tr th:only-of-type {\n",
       "        vertical-align: middle;\n",
       "    }\n",
       "\n",
       "    .dataframe tbody tr th {\n",
       "        vertical-align: top;\n",
       "    }\n",
       "\n",
       "    .dataframe thead th {\n",
       "        text-align: right;\n",
       "    }\n",
       "</style>\n",
       "<table border=\"1\" class=\"dataframe\">\n",
       "  <thead>\n",
       "    <tr style=\"text-align: right;\">\n",
       "      <th></th>\n",
       "      <th>ID</th>\n",
       "      <th>AGE</th>\n",
       "      <th>JOB</th>\n",
       "      <th>MARITAL</th>\n",
       "      <th>EDUCATION</th>\n",
       "      <th>DEFAULT</th>\n",
       "      <th>BALANCE</th>\n",
       "      <th>HOUSING</th>\n",
       "      <th>LOAN</th>\n",
       "      <th>CONTACT</th>\n",
       "      <th>DAY</th>\n",
       "      <th>MONTH</th>\n",
       "      <th>DURATION</th>\n",
       "      <th>CAMPAIGN</th>\n",
       "      <th>PDAYS</th>\n",
       "      <th>PREVIOUS</th>\n",
       "      <th>POUTCOME</th>\n",
       "      <th>TERM_DEPOSIT</th>\n",
       "    </tr>\n",
       "  </thead>\n",
       "  <tbody>\n",
       "    <tr>\n",
       "      <th>0</th>\n",
       "      <td>2836</td>\n",
       "      <td>58</td>\n",
       "      <td>management</td>\n",
       "      <td>married</td>\n",
       "      <td>tertiary</td>\n",
       "      <td>no</td>\n",
       "      <td>2143</td>\n",
       "      <td>yes</td>\n",
       "      <td>no</td>\n",
       "      <td>unknown</td>\n",
       "      <td>5</td>\n",
       "      <td>may</td>\n",
       "      <td>261</td>\n",
       "      <td>1</td>\n",
       "      <td>-1</td>\n",
       "      <td>0</td>\n",
       "      <td>unknown</td>\n",
       "      <td>no</td>\n",
       "    </tr>\n",
       "    <tr>\n",
       "      <th>1</th>\n",
       "      <td>2837</td>\n",
       "      <td>44</td>\n",
       "      <td>technician</td>\n",
       "      <td>single</td>\n",
       "      <td>secondary</td>\n",
       "      <td>no</td>\n",
       "      <td>29</td>\n",
       "      <td>yes</td>\n",
       "      <td>no</td>\n",
       "      <td>unknown</td>\n",
       "      <td>5</td>\n",
       "      <td>may</td>\n",
       "      <td>151</td>\n",
       "      <td>1</td>\n",
       "      <td>-1</td>\n",
       "      <td>0</td>\n",
       "      <td>unknown</td>\n",
       "      <td>no</td>\n",
       "    </tr>\n",
       "    <tr>\n",
       "      <th>2</th>\n",
       "      <td>2838</td>\n",
       "      <td>33</td>\n",
       "      <td>entrepreneur</td>\n",
       "      <td>married</td>\n",
       "      <td>secondary</td>\n",
       "      <td>no</td>\n",
       "      <td>2</td>\n",
       "      <td>yes</td>\n",
       "      <td>yes</td>\n",
       "      <td>unknown</td>\n",
       "      <td>5</td>\n",
       "      <td>may</td>\n",
       "      <td>76</td>\n",
       "      <td>1</td>\n",
       "      <td>-1</td>\n",
       "      <td>0</td>\n",
       "      <td>unknown</td>\n",
       "      <td>no</td>\n",
       "    </tr>\n",
       "    <tr>\n",
       "      <th>3</th>\n",
       "      <td>2839</td>\n",
       "      <td>47</td>\n",
       "      <td>blue-collar</td>\n",
       "      <td>married</td>\n",
       "      <td>unknown</td>\n",
       "      <td>no</td>\n",
       "      <td>1506</td>\n",
       "      <td>yes</td>\n",
       "      <td>no</td>\n",
       "      <td>unknown</td>\n",
       "      <td>5</td>\n",
       "      <td>may</td>\n",
       "      <td>92</td>\n",
       "      <td>1</td>\n",
       "      <td>-1</td>\n",
       "      <td>0</td>\n",
       "      <td>unknown</td>\n",
       "      <td>no</td>\n",
       "    </tr>\n",
       "    <tr>\n",
       "      <th>4</th>\n",
       "      <td>2840</td>\n",
       "      <td>33</td>\n",
       "      <td>unknown</td>\n",
       "      <td>single</td>\n",
       "      <td>unknown</td>\n",
       "      <td>no</td>\n",
       "      <td>1</td>\n",
       "      <td>no</td>\n",
       "      <td>no</td>\n",
       "      <td>unknown</td>\n",
       "      <td>5</td>\n",
       "      <td>may</td>\n",
       "      <td>198</td>\n",
       "      <td>1</td>\n",
       "      <td>-1</td>\n",
       "      <td>0</td>\n",
       "      <td>unknown</td>\n",
       "      <td>no</td>\n",
       "    </tr>\n",
       "  </tbody>\n",
       "</table>\n",
       "</div>"
      ],
      "text/plain": [
       "     ID  AGE           JOB  MARITAL  EDUCATION DEFAULT  BALANCE HOUSING LOAN  \\\n",
       "0  2836   58    management  married   tertiary      no     2143     yes   no   \n",
       "1  2837   44    technician   single  secondary      no       29     yes   no   \n",
       "2  2838   33  entrepreneur  married  secondary      no        2     yes  yes   \n",
       "3  2839   47   blue-collar  married    unknown      no     1506     yes   no   \n",
       "4  2840   33       unknown   single    unknown      no        1      no   no   \n",
       "\n",
       "   CONTACT  DAY MONTH  DURATION  CAMPAIGN  PDAYS  PREVIOUS POUTCOME  \\\n",
       "0  unknown    5   may       261         1     -1         0  unknown   \n",
       "1  unknown    5   may       151         1     -1         0  unknown   \n",
       "2  unknown    5   may        76         1     -1         0  unknown   \n",
       "3  unknown    5   may        92         1     -1         0  unknown   \n",
       "4  unknown    5   may       198         1     -1         0  unknown   \n",
       "\n",
       "  TERM_DEPOSIT  \n",
       "0           no  \n",
       "1           no  \n",
       "2           no  \n",
       "3           no  \n",
       "4           no  "
      ]
     },
     "execution_count": 14,
     "metadata": {},
     "output_type": "execute_result"
    }
   ],
   "source": [
    "df = pd.merge(client_info, loan_history, on = ['ID'])\n",
    "df = pd.merge(df, marketing_history, on = ['ID'])\n",
    "df = pd.merge(df, subscription_history, on = ['ID'])\n",
    "print(df.info())\n",
    "df.head()"
   ]
  },
  {
   "cell_type": "code",
   "execution_count": 15,
   "metadata": {
    "ExecuteTime": {
     "end_time": "2020-10-29T00:30:39.569168Z",
     "start_time": "2020-10-29T00:30:39.560084Z"
    }
   },
   "outputs": [],
   "source": [
    "# prevent data leak\n",
    "df = df.drop(['ID'], axis=1)"
   ]
  },
  {
   "cell_type": "markdown",
   "metadata": {},
   "source": [
    " "
   ]
  },
  {
   "cell_type": "markdown",
   "metadata": {},
   "source": [
    "###  Data Prep & Start H2O"
   ]
  },
  {
   "cell_type": "code",
   "execution_count": 34,
   "metadata": {
    "ExecuteTime": {
     "end_time": "2020-10-29T09:09:48.535717Z",
     "start_time": "2020-10-29T09:09:48.312271Z"
    }
   },
   "outputs": [
    {
     "name": "stdout",
     "output_type": "stream",
     "text": [
      "Checking whether there is an H2O instance running at http://localhost:54321 . connected.\n"
     ]
    },
    {
     "data": {
      "text/html": [
       "<div style=\"overflow:auto\"><table style=\"width:50%\"><tr><td>H2O_cluster_uptime:</td>\n",
       "<td>2 hours 38 mins</td></tr>\n",
       "<tr><td>H2O_cluster_timezone:</td>\n",
       "<td>America/Los_Angeles</td></tr>\n",
       "<tr><td>H2O_data_parsing_timezone:</td>\n",
       "<td>UTC</td></tr>\n",
       "<tr><td>H2O_cluster_version:</td>\n",
       "<td>3.30.1.3</td></tr>\n",
       "<tr><td>H2O_cluster_version_age:</td>\n",
       "<td>1 month </td></tr>\n",
       "<tr><td>H2O_cluster_name:</td>\n",
       "<td>H2O_from_python_puran_7af78t</td></tr>\n",
       "<tr><td>H2O_cluster_total_nodes:</td>\n",
       "<td>1</td></tr>\n",
       "<tr><td>H2O_cluster_free_memory:</td>\n",
       "<td>1.864 Gb</td></tr>\n",
       "<tr><td>H2O_cluster_total_cores:</td>\n",
       "<td>8</td></tr>\n",
       "<tr><td>H2O_cluster_allowed_cores:</td>\n",
       "<td>8</td></tr>\n",
       "<tr><td>H2O_cluster_status:</td>\n",
       "<td>locked, healthy</td></tr>\n",
       "<tr><td>H2O_connection_url:</td>\n",
       "<td>http://localhost:54321</td></tr>\n",
       "<tr><td>H2O_connection_proxy:</td>\n",
       "<td>{\"http\": null, \"https\": null}</td></tr>\n",
       "<tr><td>H2O_internal_security:</td>\n",
       "<td>False</td></tr>\n",
       "<tr><td>H2O_API_Extensions:</td>\n",
       "<td>Amazon S3, XGBoost, Algos, AutoML, Core V3, TargetEncoder, Core V4</td></tr>\n",
       "<tr><td>Python_version:</td>\n",
       "<td>3.7.3 final</td></tr></table></div>"
      ],
      "text/plain": [
       "--------------------------  ------------------------------------------------------------------\n",
       "H2O_cluster_uptime:         2 hours 38 mins\n",
       "H2O_cluster_timezone:       America/Los_Angeles\n",
       "H2O_data_parsing_timezone:  UTC\n",
       "H2O_cluster_version:        3.30.1.3\n",
       "H2O_cluster_version_age:    1 month\n",
       "H2O_cluster_name:           H2O_from_python_puran_7af78t\n",
       "H2O_cluster_total_nodes:    1\n",
       "H2O_cluster_free_memory:    1.864 Gb\n",
       "H2O_cluster_total_cores:    8\n",
       "H2O_cluster_allowed_cores:  8\n",
       "H2O_cluster_status:         locked, healthy\n",
       "H2O_connection_url:         http://localhost:54321\n",
       "H2O_connection_proxy:       {\"http\": null, \"https\": null}\n",
       "H2O_internal_security:      False\n",
       "H2O_API_Extensions:         Amazon S3, XGBoost, Algos, AutoML, Core V3, TargetEncoder, Core V4\n",
       "Python_version:             3.7.3 final\n",
       "--------------------------  ------------------------------------------------------------------"
      ]
     },
     "metadata": {},
     "output_type": "display_data"
    }
   ],
   "source": [
    "import h2o\n",
    "h2o.init(nthreads=-1 # -1: use all available threads\n",
    "        ) # h2o.init(max_mem_size='8G')"
   ]
  },
  {
   "cell_type": "code",
   "execution_count": 22,
   "metadata": {
    "ExecuteTime": {
     "end_time": "2020-10-29T07:44:33.244021Z",
     "start_time": "2020-10-29T07:44:27.884163Z"
    }
   },
   "outputs": [
    {
     "name": "stdout",
     "output_type": "stream",
     "text": [
      "Parse progress: |█████████████████████████████████████████████████████████| 100%\n"
     ]
    }
   ],
   "source": [
    "h2o_df = h2o.H2OFrame(df)"
   ]
  },
  {
   "cell_type": "code",
   "execution_count": 23,
   "metadata": {
    "ExecuteTime": {
     "end_time": "2020-10-29T07:45:22.006050Z",
     "start_time": "2020-10-29T07:45:21.929648Z"
    }
   },
   "outputs": [
    {
     "name": "stdout",
     "output_type": "stream",
     "text": [
      "Rows:45211\n",
      "Cols:17\n",
      "\n",
      "\n"
     ]
    },
    {
     "data": {
      "text/html": [
       "<table>\n",
       "<thead>\n",
       "<tr><th>       </th><th>AGE               </th><th>JOB         </th><th>MARITAL  </th><th>EDUCATION  </th><th>DEFAULT  </th><th>BALANCE           </th><th>HOUSING  </th><th>LOAN  </th><th>CONTACT  </th><th>DAY               </th><th>MONTH  </th><th>DURATION          </th><th>CAMPAIGN          </th><th>PDAYS             </th><th>PREVIOUS          </th><th>POUTCOME  </th><th>TERM_DEPOSIT  </th></tr>\n",
       "</thead>\n",
       "<tbody>\n",
       "<tr><td>type   </td><td>int               </td><td>enum        </td><td>enum     </td><td>enum       </td><td>enum     </td><td>int               </td><td>enum     </td><td>enum  </td><td>enum     </td><td>int               </td><td>enum   </td><td>int               </td><td>int               </td><td>int               </td><td>int               </td><td>enum      </td><td>enum          </td></tr>\n",
       "<tr><td>mins   </td><td>18.0              </td><td>            </td><td>         </td><td>           </td><td>         </td><td>-8019.0           </td><td>         </td><td>      </td><td>         </td><td>1.0               </td><td>       </td><td>0.0               </td><td>1.0               </td><td>-1.0              </td><td>0.0               </td><td>          </td><td>              </td></tr>\n",
       "<tr><td>mean   </td><td>40.93621021432807 </td><td>            </td><td>         </td><td>           </td><td>         </td><td>1362.2720576850802</td><td>         </td><td>      </td><td>         </td><td>15.806418791886923</td><td>       </td><td>258.16307978146915</td><td>2.7638406582468997</td><td>40.19782796222158 </td><td>0.5803233726305561</td><td>          </td><td>              </td></tr>\n",
       "<tr><td>maxs   </td><td>95.0              </td><td>            </td><td>         </td><td>           </td><td>         </td><td>102127.0          </td><td>         </td><td>      </td><td>         </td><td>31.0              </td><td>       </td><td>4918.0            </td><td>63.0              </td><td>871.0             </td><td>275.0             </td><td>          </td><td>              </td></tr>\n",
       "<tr><td>sigma  </td><td>10.618762040975398</td><td>            </td><td>         </td><td>           </td><td>         </td><td>3044.7658291685216</td><td>         </td><td>      </td><td>         </td><td>8.32247615304459  </td><td>       </td><td>257.52781226517124</td><td>3.0980208832791805</td><td>100.12874599059822</td><td>2.303441044931215 </td><td>          </td><td>              </td></tr>\n",
       "<tr><td>zeros  </td><td>0                 </td><td>            </td><td>         </td><td>           </td><td>         </td><td>3514              </td><td>         </td><td>      </td><td>         </td><td>0                 </td><td>       </td><td>3                 </td><td>0                 </td><td>0                 </td><td>36954             </td><td>          </td><td>              </td></tr>\n",
       "<tr><td>missing</td><td>0                 </td><td>0           </td><td>0        </td><td>0          </td><td>0        </td><td>0                 </td><td>0        </td><td>0     </td><td>0        </td><td>0                 </td><td>0      </td><td>0                 </td><td>0                 </td><td>0                 </td><td>0                 </td><td>0         </td><td>0             </td></tr>\n",
       "<tr><td>0      </td><td>58.0              </td><td>management  </td><td>married  </td><td>tertiary   </td><td>no       </td><td>2143.0            </td><td>yes      </td><td>no    </td><td>unknown  </td><td>5.0               </td><td>may    </td><td>261.0             </td><td>1.0               </td><td>-1.0              </td><td>0.0               </td><td>unknown   </td><td>no            </td></tr>\n",
       "<tr><td>1      </td><td>44.0              </td><td>technician  </td><td>single   </td><td>secondary  </td><td>no       </td><td>29.0              </td><td>yes      </td><td>no    </td><td>unknown  </td><td>5.0               </td><td>may    </td><td>151.0             </td><td>1.0               </td><td>-1.0              </td><td>0.0               </td><td>unknown   </td><td>no            </td></tr>\n",
       "<tr><td>2      </td><td>33.0              </td><td>entrepreneur</td><td>married  </td><td>secondary  </td><td>no       </td><td>2.0               </td><td>yes      </td><td>yes   </td><td>unknown  </td><td>5.0               </td><td>may    </td><td>76.0              </td><td>1.0               </td><td>-1.0              </td><td>0.0               </td><td>unknown   </td><td>no            </td></tr>\n",
       "<tr><td>3      </td><td>47.0              </td><td>blue-collar </td><td>married  </td><td>unknown    </td><td>no       </td><td>1506.0            </td><td>yes      </td><td>no    </td><td>unknown  </td><td>5.0               </td><td>may    </td><td>92.0              </td><td>1.0               </td><td>-1.0              </td><td>0.0               </td><td>unknown   </td><td>no            </td></tr>\n",
       "<tr><td>4      </td><td>33.0              </td><td>unknown     </td><td>single   </td><td>unknown    </td><td>no       </td><td>1.0               </td><td>no       </td><td>no    </td><td>unknown  </td><td>5.0               </td><td>may    </td><td>198.0             </td><td>1.0               </td><td>-1.0              </td><td>0.0               </td><td>unknown   </td><td>no            </td></tr>\n",
       "<tr><td>5      </td><td>35.0              </td><td>management  </td><td>married  </td><td>tertiary   </td><td>no       </td><td>231.0             </td><td>yes      </td><td>no    </td><td>unknown  </td><td>5.0               </td><td>may    </td><td>139.0             </td><td>1.0               </td><td>-1.0              </td><td>0.0               </td><td>unknown   </td><td>no            </td></tr>\n",
       "<tr><td>6      </td><td>28.0              </td><td>management  </td><td>single   </td><td>tertiary   </td><td>no       </td><td>447.0             </td><td>yes      </td><td>yes   </td><td>unknown  </td><td>5.0               </td><td>may    </td><td>217.0             </td><td>1.0               </td><td>-1.0              </td><td>0.0               </td><td>unknown   </td><td>no            </td></tr>\n",
       "<tr><td>7      </td><td>42.0              </td><td>entrepreneur</td><td>divorced </td><td>tertiary   </td><td>yes      </td><td>2.0               </td><td>yes      </td><td>no    </td><td>unknown  </td><td>5.0               </td><td>may    </td><td>380.0             </td><td>1.0               </td><td>-1.0              </td><td>0.0               </td><td>unknown   </td><td>no            </td></tr>\n",
       "<tr><td>8      </td><td>58.0              </td><td>retired     </td><td>married  </td><td>primary    </td><td>no       </td><td>121.0             </td><td>yes      </td><td>no    </td><td>unknown  </td><td>5.0               </td><td>may    </td><td>50.0              </td><td>1.0               </td><td>-1.0              </td><td>0.0               </td><td>unknown   </td><td>no            </td></tr>\n",
       "<tr><td>9      </td><td>43.0              </td><td>technician  </td><td>single   </td><td>secondary  </td><td>no       </td><td>593.0             </td><td>yes      </td><td>no    </td><td>unknown  </td><td>5.0               </td><td>may    </td><td>55.0              </td><td>1.0               </td><td>-1.0              </td><td>0.0               </td><td>unknown   </td><td>no            </td></tr>\n",
       "</tbody>\n",
       "</table>"
      ]
     },
     "metadata": {},
     "output_type": "display_data"
    }
   ],
   "source": [
    "h2o_df.describe()"
   ]
  },
  {
   "cell_type": "code",
   "execution_count": 24,
   "metadata": {
    "ExecuteTime": {
     "end_time": "2020-10-29T07:56:19.386822Z",
     "start_time": "2020-10-29T07:56:17.883830Z"
    }
   },
   "outputs": [],
   "source": [
    "#df[y] = df[y].asfactor()\n",
    "train, test = h2o_df.split_frame(ratios=[.75], seed=1)\n",
    "x = train.columns\n",
    "y = 'TERM_DEPOSIT'\n",
    "x.remove(y)"
   ]
  },
  {
   "cell_type": "markdown",
   "metadata": {},
   "source": [
    " "
   ]
  },
  {
   "cell_type": "markdown",
   "metadata": {},
   "source": [
    "### Run H2O AutoML"
   ]
  },
  {
   "cell_type": "code",
   "execution_count": 25,
   "metadata": {
    "ExecuteTime": {
     "end_time": "2020-10-29T08:25:38.435090Z",
     "start_time": "2020-10-29T08:25:38.425188Z"
    }
   },
   "outputs": [],
   "source": [
    "from h2o.automl import H2OAutoML"
   ]
  },
  {
   "cell_type": "code",
   "execution_count": 26,
   "metadata": {
    "ExecuteTime": {
     "end_time": "2020-10-29T09:05:10.853482Z",
     "start_time": "2020-10-29T08:55:02.070618Z"
    }
   },
   "outputs": [
    {
     "name": "stdout",
     "output_type": "stream",
     "text": [
      "AutoML progress: |████████████████████████████████████████████████████████| 100%\n",
      "CPU times: user 2min 40s, sys: 2.94 s, total: 2min 43s\n",
      "Wall time: 10min 8s\n"
     ]
    }
   ],
   "source": [
    "aml = H2OAutoML(max_runtime_secs=600,\n",
    "               balance_classes=True,\n",
    "                stopping_metric='logloss',\n",
    "                project_name='Final',\n",
    "                seed=1\n",
    "               )\n",
    "%time aml.train(x=x, y=y, training_frame=train)\n",
    "# default time for any training process with a show autoML is 3600 seconds,\n",
    "# corresbonding for a max runtime of one hour\n",
    "#seed=1# set max runtime, the train running is not reproducible, as system resource is a particular run differ from time to time \n",
    "# max_models=20#\n",
    "#exclude_algos=['DeepLearning']# ecluding certain algo from automobile process"
   ]
  },
  {
   "cell_type": "markdown",
   "metadata": {},
   "source": [
    " "
   ]
  },
  {
   "cell_type": "markdown",
   "metadata": {},
   "source": [
    "###  AutoML Leaderboard and Ensemble Exploration\n",
    "Next, we will view the AutoML Leaderboard. Since we did not specify a leaderboard_frame in the H2OAutoML.train() method for scoring and ranking the models, the AutoML leaderboard uses cross-validation metrics to rank the models.\n",
    "\n",
    "A default performance metric for each machine learning task (binary classification, multiclass classification, regression) is specified internally and the leaderboard will be sorted by that metric. In the case of binary classification, the default ranking metric is Area Under the ROC Curve (AUC). In the future, the user will be able to specify any of the H2O metrics so that different metrics can be used to generate rankings on the leaderboard.\n",
    "\n",
    "The leader model is stored at aml.leader and the leaderboard is stored at aml.leaderboard.\n",
    "\n",
    "To view the entire leaderboard, specify the rows argument of the head() method as the total number of rows:"
   ]
  },
  {
   "cell_type": "code",
   "execution_count": 27,
   "metadata": {
    "ExecuteTime": {
     "end_time": "2020-10-29T09:05:19.232956Z",
     "start_time": "2020-10-29T09:05:19.180874Z"
    }
   },
   "outputs": [
    {
     "data": {
      "text/html": [
       "<table>\n",
       "<thead>\n",
       "<tr><th>model_id                                           </th><th style=\"text-align: right;\">     auc</th><th style=\"text-align: right;\">  logloss</th><th style=\"text-align: right;\">   aucpr</th><th style=\"text-align: right;\">  mean_per_class_error</th><th style=\"text-align: right;\">    rmse</th><th style=\"text-align: right;\">      mse</th></tr>\n",
       "</thead>\n",
       "<tbody>\n",
       "<tr><td>XGBoost_grid__1_AutoML_20201029_015502_model_2     </td><td style=\"text-align: right;\">0.934935</td><td style=\"text-align: right;\"> 0.198027</td><td style=\"text-align: right;\">0.633476</td><td style=\"text-align: right;\">              0.179047</td><td style=\"text-align: right;\">0.249376</td><td style=\"text-align: right;\">0.0621883</td></tr>\n",
       "<tr><td>GBM_grid__1_AutoML_20201029_015502_model_3         </td><td style=\"text-align: right;\">0.934444</td><td style=\"text-align: right;\"> 0.20063 </td><td style=\"text-align: right;\">0.621394</td><td style=\"text-align: right;\">              0.174954</td><td style=\"text-align: right;\">0.251574</td><td style=\"text-align: right;\">0.0632894</td></tr>\n",
       "<tr><td>StackedEnsemble_BestOfFamily_AutoML_20201029_015502</td><td style=\"text-align: right;\">0.933926</td><td style=\"text-align: right;\"> 0.215386</td><td style=\"text-align: right;\">0.627978</td><td style=\"text-align: right;\">              0.172678</td><td style=\"text-align: right;\">0.253986</td><td style=\"text-align: right;\">0.0645089</td></tr>\n",
       "<tr><td>XGBoost_grid__1_AutoML_20201029_015502_model_5     </td><td style=\"text-align: right;\">0.933579</td><td style=\"text-align: right;\"> 0.199231</td><td style=\"text-align: right;\">0.625019</td><td style=\"text-align: right;\">              0.167322</td><td style=\"text-align: right;\">0.249743</td><td style=\"text-align: right;\">0.0623717</td></tr>\n",
       "<tr><td>XGBoost_grid__1_AutoML_20201029_015502_model_8     </td><td style=\"text-align: right;\">0.93309 </td><td style=\"text-align: right;\"> 0.200817</td><td style=\"text-align: right;\">0.618922</td><td style=\"text-align: right;\">              0.170853</td><td style=\"text-align: right;\">0.25128 </td><td style=\"text-align: right;\">0.0631415</td></tr>\n",
       "<tr><td>GBM_5_AutoML_20201029_015502                       </td><td style=\"text-align: right;\">0.933046</td><td style=\"text-align: right;\"> 0.206957</td><td style=\"text-align: right;\">0.621918</td><td style=\"text-align: right;\">              0.163862</td><td style=\"text-align: right;\">0.255904</td><td style=\"text-align: right;\">0.065487 </td></tr>\n",
       "<tr><td>StackedEnsemble_AllModels_AutoML_20201029_015502   </td><td style=\"text-align: right;\">0.933038</td><td style=\"text-align: right;\"> 0.21153 </td><td style=\"text-align: right;\">0.628498</td><td style=\"text-align: right;\">              0.177044</td><td style=\"text-align: right;\">0.253109</td><td style=\"text-align: right;\">0.064064 </td></tr>\n",
       "<tr><td>XGBoost_3_AutoML_20201029_015502                   </td><td style=\"text-align: right;\">0.93173 </td><td style=\"text-align: right;\"> 0.202798</td><td style=\"text-align: right;\">0.617305</td><td style=\"text-align: right;\">              0.163779</td><td style=\"text-align: right;\">0.252337</td><td style=\"text-align: right;\">0.0636738</td></tr>\n",
       "<tr><td>XGBoost_grid__1_AutoML_20201029_015502_model_1     </td><td style=\"text-align: right;\">0.931499</td><td style=\"text-align: right;\"> 0.203134</td><td style=\"text-align: right;\">0.616483</td><td style=\"text-align: right;\">              0.181648</td><td style=\"text-align: right;\">0.252127</td><td style=\"text-align: right;\">0.0635678</td></tr>\n",
       "<tr><td>GBM_2_AutoML_20201029_015502                       </td><td style=\"text-align: right;\">0.931341</td><td style=\"text-align: right;\"> 0.211199</td><td style=\"text-align: right;\">0.622808</td><td style=\"text-align: right;\">              0.16888 </td><td style=\"text-align: right;\">0.258062</td><td style=\"text-align: right;\">0.0665962</td></tr>\n",
       "<tr><td>GBM_grid__1_AutoML_20201029_015502_model_4         </td><td style=\"text-align: right;\">0.931196</td><td style=\"text-align: right;\"> 0.218965</td><td style=\"text-align: right;\">0.608648</td><td style=\"text-align: right;\">              0.167726</td><td style=\"text-align: right;\">0.25982 </td><td style=\"text-align: right;\">0.0675064</td></tr>\n",
       "<tr><td>GBM_grid__1_AutoML_20201029_015502_model_5         </td><td style=\"text-align: right;\">0.931074</td><td style=\"text-align: right;\"> 0.224697</td><td style=\"text-align: right;\">0.609952</td><td style=\"text-align: right;\">              0.170874</td><td style=\"text-align: right;\">0.26217 </td><td style=\"text-align: right;\">0.0687334</td></tr>\n",
       "<tr><td>XGBoost_grid__1_AutoML_20201029_015502_model_7     </td><td style=\"text-align: right;\">0.930767</td><td style=\"text-align: right;\"> 0.203581</td><td style=\"text-align: right;\">0.619835</td><td style=\"text-align: right;\">              0.180021</td><td style=\"text-align: right;\">0.252691</td><td style=\"text-align: right;\">0.0638529</td></tr>\n",
       "<tr><td>GBM_grid__1_AutoML_20201029_015502_model_2         </td><td style=\"text-align: right;\">0.930679</td><td style=\"text-align: right;\"> 0.209982</td><td style=\"text-align: right;\">0.615515</td><td style=\"text-align: right;\">              0.167943</td><td style=\"text-align: right;\">0.256638</td><td style=\"text-align: right;\">0.0658629</td></tr>\n",
       "<tr><td>GBM_grid__1_AutoML_20201029_015502_model_1         </td><td style=\"text-align: right;\">0.930447</td><td style=\"text-align: right;\"> 0.202895</td><td style=\"text-align: right;\">0.615819</td><td style=\"text-align: right;\">              0.183551</td><td style=\"text-align: right;\">0.252307</td><td style=\"text-align: right;\">0.063659 </td></tr>\n",
       "<tr><td>XGBoost_grid__1_AutoML_20201029_015502_model_6     </td><td style=\"text-align: right;\">0.930082</td><td style=\"text-align: right;\"> 0.203937</td><td style=\"text-align: right;\">0.617468</td><td style=\"text-align: right;\">              0.188811</td><td style=\"text-align: right;\">0.252486</td><td style=\"text-align: right;\">0.0637492</td></tr>\n",
       "<tr><td>GBM_3_AutoML_20201029_015502                       </td><td style=\"text-align: right;\">0.929956</td><td style=\"text-align: right;\"> 0.209545</td><td style=\"text-align: right;\">0.611347</td><td style=\"text-align: right;\">              0.182482</td><td style=\"text-align: right;\">0.256829</td><td style=\"text-align: right;\">0.0659613</td></tr>\n",
       "<tr><td>GBM_grid__1_AutoML_20201029_015502_model_6         </td><td style=\"text-align: right;\">0.929069</td><td style=\"text-align: right;\"> 0.227043</td><td style=\"text-align: right;\">0.60857 </td><td style=\"text-align: right;\">              0.174047</td><td style=\"text-align: right;\">0.26682 </td><td style=\"text-align: right;\">0.0711929</td></tr>\n",
       "<tr><td>XGBoost_1_AutoML_20201029_015502                   </td><td style=\"text-align: right;\">0.92889 </td><td style=\"text-align: right;\"> 0.206296</td><td style=\"text-align: right;\">0.606661</td><td style=\"text-align: right;\">              0.178115</td><td style=\"text-align: right;\">0.253828</td><td style=\"text-align: right;\">0.0644285</td></tr>\n",
       "<tr><td>GBM_4_AutoML_20201029_015502                       </td><td style=\"text-align: right;\">0.928657</td><td style=\"text-align: right;\"> 0.220357</td><td style=\"text-align: right;\">0.607562</td><td style=\"text-align: right;\">              0.17985 </td><td style=\"text-align: right;\">0.263482</td><td style=\"text-align: right;\">0.0694229</td></tr>\n",
       "<tr><td>XGBoost_grid__1_AutoML_20201029_015502_model_4     </td><td style=\"text-align: right;\">0.927527</td><td style=\"text-align: right;\"> 0.215006</td><td style=\"text-align: right;\">0.598902</td><td style=\"text-align: right;\">              0.185935</td><td style=\"text-align: right;\">0.258431</td><td style=\"text-align: right;\">0.0667868</td></tr>\n",
       "<tr><td>GBM_grid__1_AutoML_20201029_015502_model_7         </td><td style=\"text-align: right;\">0.926692</td><td style=\"text-align: right;\"> 0.214553</td><td style=\"text-align: right;\">0.608944</td><td style=\"text-align: right;\">              0.183879</td><td style=\"text-align: right;\">0.259288</td><td style=\"text-align: right;\">0.0672303</td></tr>\n",
       "<tr><td>XGBoost_2_AutoML_20201029_015502                   </td><td style=\"text-align: right;\">0.926667</td><td style=\"text-align: right;\"> 0.209366</td><td style=\"text-align: right;\">0.601904</td><td style=\"text-align: right;\">              0.183698</td><td style=\"text-align: right;\">0.255444</td><td style=\"text-align: right;\">0.0652517</td></tr>\n",
       "<tr><td>GBM_1_AutoML_20201029_015502                       </td><td style=\"text-align: right;\">0.92656 </td><td style=\"text-align: right;\"> 0.226374</td><td style=\"text-align: right;\">0.602081</td><td style=\"text-align: right;\">              0.184172</td><td style=\"text-align: right;\">0.266814</td><td style=\"text-align: right;\">0.0711899</td></tr>\n",
       "<tr><td>XGBoost_grid__1_AutoML_20201029_015502_model_3     </td><td style=\"text-align: right;\">0.925713</td><td style=\"text-align: right;\"> 0.214712</td><td style=\"text-align: right;\">0.592996</td><td style=\"text-align: right;\">              0.178829</td><td style=\"text-align: right;\">0.259209</td><td style=\"text-align: right;\">0.0671893</td></tr>\n",
       "<tr><td>XRT_1_AutoML_20201029_015502                       </td><td style=\"text-align: right;\">0.920122</td><td style=\"text-align: right;\"> 0.264274</td><td style=\"text-align: right;\">0.572193</td><td style=\"text-align: right;\">              0.19296 </td><td style=\"text-align: right;\">0.286131</td><td style=\"text-align: right;\">0.0818711</td></tr>\n",
       "<tr><td>DRF_1_AutoML_20201029_015502                       </td><td style=\"text-align: right;\">0.919458</td><td style=\"text-align: right;\"> 0.329801</td><td style=\"text-align: right;\">0.57384 </td><td style=\"text-align: right;\">              0.182383</td><td style=\"text-align: right;\">0.286134</td><td style=\"text-align: right;\">0.0818726</td></tr>\n",
       "<tr><td>GLM_1_AutoML_20201029_015502                       </td><td style=\"text-align: right;\">0.906984</td><td style=\"text-align: right;\"> 0.238791</td><td style=\"text-align: right;\">0.555867</td><td style=\"text-align: right;\">              0.212433</td><td style=\"text-align: right;\">0.266467</td><td style=\"text-align: right;\">0.0710044</td></tr>\n",
       "<tr><td>GBM_grid__1_AutoML_20201029_015502_model_8         </td><td style=\"text-align: right;\">0.898535</td><td style=\"text-align: right;\"> 0.28981 </td><td style=\"text-align: right;\">0.516726</td><td style=\"text-align: right;\">              0.20727 </td><td style=\"text-align: right;\">0.297125</td><td style=\"text-align: right;\">0.0882836</td></tr>\n",
       "<tr><td>DeepLearning_1_AutoML_20201029_015502              </td><td style=\"text-align: right;\">0.894376</td><td style=\"text-align: right;\"> 0.247673</td><td style=\"text-align: right;\">0.514603</td><td style=\"text-align: right;\">              0.22588 </td><td style=\"text-align: right;\">0.276258</td><td style=\"text-align: right;\">0.0763186</td></tr>\n",
       "<tr><td>DeepLearning_grid__2_AutoML_20201029_015502_model_1</td><td style=\"text-align: right;\">0.890408</td><td style=\"text-align: right;\"> 0.265964</td><td style=\"text-align: right;\">0.523529</td><td style=\"text-align: right;\">              0.215043</td><td style=\"text-align: right;\">0.276412</td><td style=\"text-align: right;\">0.0764036</td></tr>\n",
       "<tr><td>GBM_grid__1_AutoML_20201029_015502_model_9         </td><td style=\"text-align: right;\">0.890184</td><td style=\"text-align: right;\"> 0.341493</td><td style=\"text-align: right;\">0.527446</td><td style=\"text-align: right;\">              0.201228</td><td style=\"text-align: right;\">0.315391</td><td style=\"text-align: right;\">0.0994716</td></tr>\n",
       "<tr><td>DeepLearning_grid__1_AutoML_20201029_015502_model_3</td><td style=\"text-align: right;\">0.889063</td><td style=\"text-align: right;\"> 0.327757</td><td style=\"text-align: right;\">0.494895</td><td style=\"text-align: right;\">              0.245951</td><td style=\"text-align: right;\">0.321724</td><td style=\"text-align: right;\">0.103506 </td></tr>\n",
       "<tr><td>DeepLearning_grid__1_AutoML_20201029_015502_model_1</td><td style=\"text-align: right;\">0.887586</td><td style=\"text-align: right;\"> 0.255286</td><td style=\"text-align: right;\">0.522841</td><td style=\"text-align: right;\">              0.238942</td><td style=\"text-align: right;\">0.276945</td><td style=\"text-align: right;\">0.0766983</td></tr>\n",
       "<tr><td>DeepLearning_grid__3_AutoML_20201029_015502_model_1</td><td style=\"text-align: right;\">0.862882</td><td style=\"text-align: right;\"> 0.277937</td><td style=\"text-align: right;\">0.470238</td><td style=\"text-align: right;\">              0.26108 </td><td style=\"text-align: right;\">0.281582</td><td style=\"text-align: right;\">0.0792882</td></tr>\n",
       "<tr><td>DeepLearning_grid__2_AutoML_20201029_015502_model_2</td><td style=\"text-align: right;\">0.837662</td><td style=\"text-align: right;\"> 0.384038</td><td style=\"text-align: right;\">0.435915</td><td style=\"text-align: right;\">              0.27386 </td><td style=\"text-align: right;\">0.334405</td><td style=\"text-align: right;\">0.111827 </td></tr>\n",
       "<tr><td>DeepLearning_grid__1_AutoML_20201029_015502_model_2</td><td style=\"text-align: right;\">0.8097  </td><td style=\"text-align: right;\"> 0.385523</td><td style=\"text-align: right;\">0.417016</td><td style=\"text-align: right;\">              0.297044</td><td style=\"text-align: right;\">0.29956 </td><td style=\"text-align: right;\">0.0897362</td></tr>\n",
       "</tbody>\n",
       "</table>"
      ]
     },
     "metadata": {},
     "output_type": "display_data"
    },
    {
     "data": {
      "text/plain": []
     },
     "execution_count": 27,
     "metadata": {},
     "output_type": "execute_result"
    }
   ],
   "source": [
    "lb = aml.leaderboard\n",
    "lb.head(rows=lb.nrows)"
   ]
  },
  {
   "cell_type": "markdown",
   "metadata": {
    "ExecuteTime": {
     "end_time": "2020-10-29T09:29:48.259326Z",
     "start_time": "2020-10-29T09:29:47.930808Z"
    }
   },
   "source": [
    "```Python\n",
    "se = aml.leader #best model\n",
    "metalearner = h2o.get_model(se.metalearner()['name']) # bug\n",
    "```"
   ]
  },
  {
   "cell_type": "markdown",
   "metadata": {},
   "source": [
    "**Ensemble Exploration**<br>\n",
    "To understand how the ensemble works, let’s take a peek inside the Stacked Ensemble “All Models” model. The “All Models” ensemble is an ensemble of all of the individual models in the AutoML run. This is often the top-performing model on the leaderboard."
   ]
  },
  {
   "cell_type": "code",
   "execution_count": 39,
   "metadata": {
    "ExecuteTime": {
     "end_time": "2020-10-29T09:28:33.713373Z",
     "start_time": "2020-10-29T09:28:31.795338Z"
    }
   },
   "outputs": [],
   "source": [
    "# Get model ids for all models in the AutoML Leaderboard\n",
    "model_ids = list(aml.leaderboard['model_id'].as_data_frame().iloc[:,0])\n",
    "# Get the \"All Models\" Stacked Ensemble model\n",
    "se = h2o.get_model([mid for mid in model_ids if \"StackedEnsemble_AllModels\" in mid][0])\n",
    "# Get the Stacked Ensemble metalearner model\n",
    "metalearner = h2o.get_model(se.metalearner()['name'])"
   ]
  },
  {
   "cell_type": "code",
   "execution_count": 40,
   "metadata": {
    "ExecuteTime": {
     "end_time": "2020-10-29T09:28:47.087767Z",
     "start_time": "2020-10-29T09:28:47.068183Z"
    }
   },
   "outputs": [
    {
     "data": {
      "text/plain": [
       "[('XGBoost_grid__1_AutoML_20201029_015502_model_2',\n",
       "  0.30670970888905713,\n",
       "  1.0,\n",
       "  0.18337601045054672),\n",
       " ('DeepLearning_grid__1_AutoML_20201029_015502_model_3',\n",
       "  0.21395095849410445,\n",
       "  0.6975682617582043,\n",
       "  0.1279172848581422),\n",
       " ('DeepLearning_1_AutoML_20201029_015502',\n",
       "  0.19509931288237234,\n",
       "  0.6361041311311849,\n",
       "  0.1166462377979481),\n",
       " ('GBM_1_AutoML_20201029_015502',\n",
       "  0.18615829134278314,\n",
       "  0.6069527176595515,\n",
       "  0.11130056789652565),\n",
       " ('GBM_2_AutoML_20201029_015502',\n",
       "  0.14139917548022518,\n",
       "  0.461019561436094,\n",
       "  0.08453992791581164),\n",
       " ('GBM_grid__1_AutoML_20201029_015502_model_8',\n",
       "  0.14099994997038778,\n",
       "  0.45971792181313115,\n",
       "  0.08430123843470835),\n",
       " ('XGBoost_grid__1_AutoML_20201029_015502_model_1',\n",
       "  0.1335070022545085,\n",
       "  0.4352878255406013,\n",
       "  0.07982134484532906),\n",
       " ('XGBoost_grid__1_AutoML_20201029_015502_model_8',\n",
       "  0.09573396639914006,\n",
       "  0.3121321680552633,\n",
       "  0.05723755171125376),\n",
       " ('XGBoost_grid__1_AutoML_20201029_015502_model_4',\n",
       "  0.06949157791318109,\n",
       "  0.22657117104277108,\n",
       "  0.04154771742893179),\n",
       " ('XGBoost_grid__1_AutoML_20201029_015502_model_7',\n",
       "  0.060738917571485716,\n",
       "  0.19803389267164073,\n",
       "  0.03631466517211724),\n",
       " ('GBM_5_AutoML_20201029_015502',\n",
       "  0.04506451557700821,\n",
       "  0.14692888510193503,\n",
       "  0.026943232769939613),\n",
       " ('XGBoost_grid__1_AutoML_20201029_015502_model_3',\n",
       "  0.039729517027245816,\n",
       "  0.1295345920778033,\n",
       "  0.023753536710566563),\n",
       " ('GBM_grid__1_AutoML_20201029_015502_model_3',\n",
       "  0.022617220818503803,\n",
       "  0.07374145702927484,\n",
       "  0.013522414194838845),\n",
       " ('GBM_grid__1_AutoML_20201029_015502_model_9',\n",
       "  0.02000083058790681,\n",
       "  0.06521094705593913,\n",
       "  0.011958123308819945),\n",
       " ('XGBoost_2_AutoML_20201029_015502',\n",
       "  0.0011199082576394987,\n",
       "  0.0036513622659548454,\n",
       "  0.0006695722450404676),\n",
       " ('XGBoost_1_AutoML_20201029_015502',\n",
       "  0.0002518463957082578,\n",
       "  0.0008211229980964037,\n",
       "  0.00015057425948011036),\n",
       " ('XGBoost_grid__1_AutoML_20201029_015502_model_5', 0.0, 0.0, 0.0),\n",
       " ('XGBoost_3_AutoML_20201029_015502', 0.0, 0.0, 0.0),\n",
       " ('GBM_grid__1_AutoML_20201029_015502_model_4', 0.0, 0.0, 0.0),\n",
       " ('GBM_grid__1_AutoML_20201029_015502_model_5', 0.0, 0.0, 0.0),\n",
       " ('GBM_grid__1_AutoML_20201029_015502_model_2', 0.0, 0.0, 0.0),\n",
       " ('GBM_grid__1_AutoML_20201029_015502_model_1', 0.0, 0.0, 0.0),\n",
       " ('XGBoost_grid__1_AutoML_20201029_015502_model_6', 0.0, 0.0, 0.0),\n",
       " ('GBM_3_AutoML_20201029_015502', 0.0, 0.0, 0.0),\n",
       " ('GBM_grid__1_AutoML_20201029_015502_model_6', 0.0, 0.0, 0.0),\n",
       " ('GBM_4_AutoML_20201029_015502', 0.0, 0.0, 0.0),\n",
       " ('GBM_grid__1_AutoML_20201029_015502_model_7', 0.0, 0.0, 0.0),\n",
       " ('XRT_1_AutoML_20201029_015502', 0.0, 0.0, 0.0),\n",
       " ('DRF_1_AutoML_20201029_015502', 0.0, 0.0, 0.0),\n",
       " ('GLM_1_AutoML_20201029_015502', 0.0, 0.0, 0.0),\n",
       " ('DeepLearning_grid__2_AutoML_20201029_015502_model_1', 0.0, 0.0, 0.0),\n",
       " ('DeepLearning_grid__1_AutoML_20201029_015502_model_1', 0.0, 0.0, 0.0),\n",
       " ('DeepLearning_grid__3_AutoML_20201029_015502_model_1', 0.0, 0.0, 0.0),\n",
       " ('DeepLearning_grid__2_AutoML_20201029_015502_model_2', 0.0, 0.0, 0.0),\n",
       " ('DeepLearning_grid__1_AutoML_20201029_015502_model_2', 0.0, 0.0, 0.0)]"
      ]
     },
     "execution_count": 40,
     "metadata": {},
     "output_type": "execute_result"
    }
   ],
   "source": [
    "metalearner.varimp()\n",
    "# how important each of there baseleaner to the ensemble"
   ]
  },
  {
   "cell_type": "markdown",
   "metadata": {},
   "source": [
    "Examine the variable importance of the metalearner (combiner) algorithm in the ensemble. This shows us how much each base learner is contributing to the ensemble. The AutoML Stacked Ensembles use the default metalearner algorithm (GLM with non-negative weights), so the variable importance of the metalearner is actually the standardized coefficient magnitudes of the GLM."
   ]
  },
  {
   "cell_type": "code",
   "execution_count": 46,
   "metadata": {
    "ExecuteTime": {
     "end_time": "2020-10-29T09:47:16.298965Z",
     "start_time": "2020-10-29T09:47:16.279338Z"
    }
   },
   "outputs": [
    {
     "data": {
      "text/plain": [
       "{'Intercept': -2.917128168800494,\n",
       " 'XGBoost_grid__1_AutoML_20201029_015502_model_2': 0.30670970888905713,\n",
       " 'GBM_grid__1_AutoML_20201029_015502_model_3': 0.022617220818503803,\n",
       " 'XGBoost_grid__1_AutoML_20201029_015502_model_5': 0.0,\n",
       " 'XGBoost_grid__1_AutoML_20201029_015502_model_8': 0.09573396639914006,\n",
       " 'GBM_5_AutoML_20201029_015502': 0.04506451557700821,\n",
       " 'XGBoost_3_AutoML_20201029_015502': 0.0,\n",
       " 'XGBoost_grid__1_AutoML_20201029_015502_model_1': 0.1335070022545085,\n",
       " 'GBM_2_AutoML_20201029_015502': 0.14139917548022518,\n",
       " 'GBM_grid__1_AutoML_20201029_015502_model_4': 0.0,\n",
       " 'GBM_grid__1_AutoML_20201029_015502_model_5': 0.0,\n",
       " 'XGBoost_grid__1_AutoML_20201029_015502_model_7': 0.060738917571485716,\n",
       " 'GBM_grid__1_AutoML_20201029_015502_model_2': 0.0,\n",
       " 'GBM_grid__1_AutoML_20201029_015502_model_1': 0.0,\n",
       " 'XGBoost_grid__1_AutoML_20201029_015502_model_6': 0.0,\n",
       " 'GBM_3_AutoML_20201029_015502': 0.0,\n",
       " 'GBM_grid__1_AutoML_20201029_015502_model_6': 0.0,\n",
       " 'XGBoost_1_AutoML_20201029_015502': 0.0002518463957082578,\n",
       " 'GBM_4_AutoML_20201029_015502': 0.0,\n",
       " 'XGBoost_grid__1_AutoML_20201029_015502_model_4': 0.06949157791318109,\n",
       " 'GBM_grid__1_AutoML_20201029_015502_model_7': 0.0,\n",
       " 'XGBoost_2_AutoML_20201029_015502': 0.0011199082576394987,\n",
       " 'GBM_1_AutoML_20201029_015502': 0.18615829134278314,\n",
       " 'XGBoost_grid__1_AutoML_20201029_015502_model_3': 0.039729517027245816,\n",
       " 'XRT_1_AutoML_20201029_015502': 0.0,\n",
       " 'DRF_1_AutoML_20201029_015502': 0.0,\n",
       " 'GLM_1_AutoML_20201029_015502': 0.0,\n",
       " 'GBM_grid__1_AutoML_20201029_015502_model_8': 0.14099994997038778,\n",
       " 'DeepLearning_1_AutoML_20201029_015502': 0.19509931288237234,\n",
       " 'DeepLearning_grid__2_AutoML_20201029_015502_model_1': 0.0,\n",
       " 'GBM_grid__1_AutoML_20201029_015502_model_9': 0.02000083058790681,\n",
       " 'DeepLearning_grid__1_AutoML_20201029_015502_model_3': 0.21395095849410445,\n",
       " 'DeepLearning_grid__1_AutoML_20201029_015502_model_1': 0.0,\n",
       " 'DeepLearning_grid__3_AutoML_20201029_015502_model_1': 0.0,\n",
       " 'DeepLearning_grid__2_AutoML_20201029_015502_model_2': 0.0,\n",
       " 'DeepLearning_grid__1_AutoML_20201029_015502_model_2': 0.0}"
      ]
     },
     "execution_count": 46,
     "metadata": {},
     "output_type": "execute_result"
    }
   ],
   "source": [
    "metalearner.coef_norm()"
   ]
  },
  {
   "cell_type": "code",
   "execution_count": 42,
   "metadata": {
    "ExecuteTime": {
     "end_time": "2020-10-29T09:31:34.960533Z",
     "start_time": "2020-10-29T09:31:34.307053Z"
    }
   },
   "outputs": [
    {
     "name": "stderr",
     "output_type": "stream",
     "text": [
      "/anaconda3/lib/python3.7/site-packages/matplotlib/cbook/__init__.py:424: MatplotlibDeprecationWarning: \n",
      "Passing one of 'on', 'true', 'off', 'false' as a boolean is deprecated; use an actual boolean (True/False) instead.\n",
      "  warn_deprecated(\"2.2\", \"Passing one of 'on', 'true', 'off', 'false' as a \"\n"
     ]
    },
    {
     "data": {
      "image/png": "[encoded data removed]",
      "text/plain": [
       "<Figure size 1008x720 with 1 Axes>"
      ]
     },
     "metadata": {
      "needs_background": "light"
     },
     "output_type": "display_data"
    }
   ],
   "source": [
    "%matplotlib inline\n",
    "metalearner.std_coef_plot()"
   ]
  },
  {
   "cell_type": "markdown",
   "metadata": {},
   "source": [
    "**Predicting Using Leader Model**"
   ]
  },
  {
   "cell_type": "code",
   "execution_count": 43,
   "metadata": {
    "ExecuteTime": {
     "end_time": "2020-10-29T09:32:43.361589Z",
     "start_time": "2020-10-29T09:32:41.963953Z"
    }
   },
   "outputs": [
    {
     "name": "stdout",
     "output_type": "stream",
     "text": [
      "xgboost prediction progress: |████████████████████████████████████████████| 100%\n"
     ]
    },
    {
     "data": {
      "text/html": [
       "<table>\n",
       "<thead>\n",
       "<tr><th>predict  </th><th style=\"text-align: right;\">      no</th><th style=\"text-align: right;\">        yes</th></tr>\n",
       "</thead>\n",
       "<tbody>\n",
       "<tr><td>no       </td><td style=\"text-align: right;\">0.999521</td><td style=\"text-align: right;\">0.000478711</td></tr>\n",
       "<tr><td>no       </td><td style=\"text-align: right;\">0.999898</td><td style=\"text-align: right;\">0.000101744</td></tr>\n",
       "<tr><td>no       </td><td style=\"text-align: right;\">0.999638</td><td style=\"text-align: right;\">0.000362266</td></tr>\n",
       "<tr><td>no       </td><td style=\"text-align: right;\">0.999812</td><td style=\"text-align: right;\">0.000187925</td></tr>\n",
       "<tr><td>no       </td><td style=\"text-align: right;\">0.999132</td><td style=\"text-align: right;\">0.000867828</td></tr>\n",
       "<tr><td>no       </td><td style=\"text-align: right;\">0.999463</td><td style=\"text-align: right;\">0.000537311</td></tr>\n",
       "<tr><td>no       </td><td style=\"text-align: right;\">0.999286</td><td style=\"text-align: right;\">0.000713879</td></tr>\n",
       "<tr><td>no       </td><td style=\"text-align: right;\">0.997554</td><td style=\"text-align: right;\">0.00244601 </td></tr>\n",
       "<tr><td>no       </td><td style=\"text-align: right;\">0.995225</td><td style=\"text-align: right;\">0.00477523 </td></tr>\n",
       "<tr><td>no       </td><td style=\"text-align: right;\">0.999408</td><td style=\"text-align: right;\">0.000591912</td></tr>\n",
       "</tbody>\n",
       "</table>"
      ]
     },
     "metadata": {},
     "output_type": "display_data"
    },
    {
     "data": {
      "text/plain": []
     },
     "execution_count": 43,
     "metadata": {},
     "output_type": "execute_result"
    }
   ],
   "source": [
    "pred = aml.predict(test)\n",
    "pred.head()"
   ]
  },
  {
   "cell_type": "markdown",
   "metadata": {},
   "source": [
    "**Saving the Leader Model**<br>\n",
    "You can also save and download your model and use it for deploying it to production. There are two ways to save the leader model -- binary format and MOJO format. If you're taking your leader model to production, then we'd suggest the MOJO format since it's optimized for production use."
   ]
  },
  {
   "cell_type": "code",
   "execution_count": 44,
   "metadata": {
    "ExecuteTime": {
     "end_time": "2020-10-29T09:33:54.956274Z",
     "start_time": "2020-10-29T09:33:54.705522Z"
    }
   },
   "outputs": [
    {
     "data": {
      "text/plain": [
       "'/Users/puran/Downloads/Project/Automatic Machine Learning with H2O AutoML and Python/product_backorders_model_bin/XGBoost_grid__1_AutoML_20201029_015502_model_2'"
      ]
     },
     "execution_count": 44,
     "metadata": {},
     "output_type": "execute_result"
    }
   ],
   "source": [
    "h2o.save_model(aml.leader, path=\"./product_backorders_model_bin\")"
   ]
  },
  {
   "cell_type": "code",
   "execution_count": 45,
   "metadata": {
    "ExecuteTime": {
     "end_time": "2020-10-29T09:45:35.619746Z",
     "start_time": "2020-10-29T09:45:34.674413Z"
    }
   },
   "outputs": [
    {
     "data": {
      "text/plain": [
       "'/Users/puran/Downloads/Project/Automatic Machine Learning with H2O AutoML and Python/XGBoost_grid__1_AutoML_20201029_015502_model_2.zip'"
      ]
     },
     "execution_count": 45,
     "metadata": {},
     "output_type": "execute_result"
    }
   ],
   "source": [
    "aml.leader.download_mojo(path = \"./\")"
   ]
  },
  {
   "cell_type": "markdown",
   "metadata": {},
   "source": [
    "###  Base Learner XGBoost Model Exploration"
   ]
  },
  {
   "cell_type": "code",
   "execution_count": 47,
   "metadata": {
    "ExecuteTime": {
     "end_time": "2020-10-29T10:16:10.056302Z",
     "start_time": "2020-10-29T10:16:09.735152Z"
    }
   },
   "outputs": [],
   "source": [
    "model = h2o.get_model('XGBoost_grid__1_AutoML_20201029_015502_model_2')"
   ]
  },
  {
   "cell_type": "code",
   "execution_count": 49,
   "metadata": {
    "ExecuteTime": {
     "end_time": "2020-10-29T10:16:49.400765Z",
     "start_time": "2020-10-29T10:16:48.473301Z"
    }
   },
   "outputs": [
    {
     "name": "stdout",
     "output_type": "stream",
     "text": [
      "\n",
      "ModelMetricsBinomial: xgboost\n",
      "** Reported on test data. **\n",
      "\n",
      "MSE: 0.06264557267027894\n",
      "RMSE: 0.2502909760064852\n",
      "LogLoss: 0.1975059677251249\n",
      "Mean Per-Class Error: 0.12540146195464486\n",
      "AUC: 0.9355520364384183\n",
      "AUCPR: 0.6081449849037012\n",
      "Gini: 0.8711040728768367\n",
      "\n",
      "Confusion Matrix (Act/Pred) for max f1 @ threshold = 0.2775917537510395: \n"
     ]
    },
    {
     "data": {
      "text/html": [
       "<div>\n",
       "<style scoped>\n",
       "    .dataframe tbody tr th:only-of-type {\n",
       "        vertical-align: middle;\n",
       "    }\n",
       "\n",
       "    .dataframe tbody tr th {\n",
       "        vertical-align: top;\n",
       "    }\n",
       "\n",
       "    .dataframe thead th {\n",
       "        text-align: right;\n",
       "    }\n",
       "</style>\n",
       "<table border=\"1\" class=\"dataframe\">\n",
       "  <thead>\n",
       "    <tr style=\"text-align: right;\">\n",
       "      <th></th>\n",
       "      <th></th>\n",
       "      <th>no</th>\n",
       "      <th>yes</th>\n",
       "      <th>Error</th>\n",
       "      <th>Rate</th>\n",
       "    </tr>\n",
       "  </thead>\n",
       "  <tbody>\n",
       "    <tr>\n",
       "      <th>0</th>\n",
       "      <td>no</td>\n",
       "      <td>9155.0</td>\n",
       "      <td>773.0</td>\n",
       "      <td>0.0779</td>\n",
       "      <td>(773.0/9928.0)</td>\n",
       "    </tr>\n",
       "    <tr>\n",
       "      <th>1</th>\n",
       "      <td>yes</td>\n",
       "      <td>345.0</td>\n",
       "      <td>950.0</td>\n",
       "      <td>0.2664</td>\n",
       "      <td>(345.0/1295.0)</td>\n",
       "    </tr>\n",
       "    <tr>\n",
       "      <th>2</th>\n",
       "      <td>Total</td>\n",
       "      <td>9500.0</td>\n",
       "      <td>1723.0</td>\n",
       "      <td>0.0996</td>\n",
       "      <td>(1118.0/11223.0)</td>\n",
       "    </tr>\n",
       "  </tbody>\n",
       "</table>\n",
       "</div>"
      ],
      "text/plain": [
       "              no     yes   Error               Rate\n",
       "0     no  9155.0   773.0  0.0779     (773.0/9928.0)\n",
       "1    yes   345.0   950.0  0.2664     (345.0/1295.0)\n",
       "2  Total  9500.0  1723.0  0.0996   (1118.0/11223.0)"
      ]
     },
     "metadata": {},
     "output_type": "display_data"
    },
    {
     "name": "stdout",
     "output_type": "stream",
     "text": [
      "\n",
      "Maximum Metrics: Maximum metrics at their respective thresholds\n"
     ]
    },
    {
     "data": {
      "text/html": [
       "<div>\n",
       "<style scoped>\n",
       "    .dataframe tbody tr th:only-of-type {\n",
       "        vertical-align: middle;\n",
       "    }\n",
       "\n",
       "    .dataframe tbody tr th {\n",
       "        vertical-align: top;\n",
       "    }\n",
       "\n",
       "    .dataframe thead th {\n",
       "        text-align: right;\n",
       "    }\n",
       "</style>\n",
       "<table border=\"1\" class=\"dataframe\">\n",
       "  <thead>\n",
       "    <tr style=\"text-align: right;\">\n",
       "      <th></th>\n",
       "      <th>metric</th>\n",
       "      <th>threshold</th>\n",
       "      <th>value</th>\n",
       "      <th>idx</th>\n",
       "    </tr>\n",
       "  </thead>\n",
       "  <tbody>\n",
       "    <tr>\n",
       "      <th>0</th>\n",
       "      <td>max f1</td>\n",
       "      <td>0.277592</td>\n",
       "      <td>0.629556</td>\n",
       "      <td>218.0</td>\n",
       "    </tr>\n",
       "    <tr>\n",
       "      <th>1</th>\n",
       "      <td>max f2</td>\n",
       "      <td>0.117047</td>\n",
       "      <td>0.741915</td>\n",
       "      <td>292.0</td>\n",
       "    </tr>\n",
       "    <tr>\n",
       "      <th>2</th>\n",
       "      <td>max f0point5</td>\n",
       "      <td>0.400512</td>\n",
       "      <td>0.600905</td>\n",
       "      <td>174.0</td>\n",
       "    </tr>\n",
       "    <tr>\n",
       "      <th>3</th>\n",
       "      <td>max accuracy</td>\n",
       "      <td>0.510199</td>\n",
       "      <td>0.908670</td>\n",
       "      <td>136.0</td>\n",
       "    </tr>\n",
       "    <tr>\n",
       "      <th>4</th>\n",
       "      <td>max precision</td>\n",
       "      <td>0.982878</td>\n",
       "      <td>1.000000</td>\n",
       "      <td>0.0</td>\n",
       "    </tr>\n",
       "    <tr>\n",
       "      <th>5</th>\n",
       "      <td>max recall</td>\n",
       "      <td>0.003995</td>\n",
       "      <td>1.000000</td>\n",
       "      <td>390.0</td>\n",
       "    </tr>\n",
       "    <tr>\n",
       "      <th>6</th>\n",
       "      <td>max specificity</td>\n",
       "      <td>0.982878</td>\n",
       "      <td>1.000000</td>\n",
       "      <td>0.0</td>\n",
       "    </tr>\n",
       "    <tr>\n",
       "      <th>7</th>\n",
       "      <td>max absolute_mcc</td>\n",
       "      <td>0.214336</td>\n",
       "      <td>0.583931</td>\n",
       "      <td>246.0</td>\n",
       "    </tr>\n",
       "    <tr>\n",
       "      <th>8</th>\n",
       "      <td>max min_per_class_accuracy</td>\n",
       "      <td>0.147484</td>\n",
       "      <td>0.867244</td>\n",
       "      <td>276.0</td>\n",
       "    </tr>\n",
       "    <tr>\n",
       "      <th>9</th>\n",
       "      <td>max mean_per_class_accuracy</td>\n",
       "      <td>0.106327</td>\n",
       "      <td>0.874599</td>\n",
       "      <td>299.0</td>\n",
       "    </tr>\n",
       "    <tr>\n",
       "      <th>10</th>\n",
       "      <td>max tns</td>\n",
       "      <td>0.982878</td>\n",
       "      <td>9928.000000</td>\n",
       "      <td>0.0</td>\n",
       "    </tr>\n",
       "    <tr>\n",
       "      <th>11</th>\n",
       "      <td>max fns</td>\n",
       "      <td>0.982878</td>\n",
       "      <td>1294.000000</td>\n",
       "      <td>0.0</td>\n",
       "    </tr>\n",
       "    <tr>\n",
       "      <th>12</th>\n",
       "      <td>max fps</td>\n",
       "      <td>0.000278</td>\n",
       "      <td>9928.000000</td>\n",
       "      <td>399.0</td>\n",
       "    </tr>\n",
       "    <tr>\n",
       "      <th>13</th>\n",
       "      <td>max tps</td>\n",
       "      <td>0.003995</td>\n",
       "      <td>1295.000000</td>\n",
       "      <td>390.0</td>\n",
       "    </tr>\n",
       "    <tr>\n",
       "      <th>14</th>\n",
       "      <td>max tnr</td>\n",
       "      <td>0.982878</td>\n",
       "      <td>1.000000</td>\n",
       "      <td>0.0</td>\n",
       "    </tr>\n",
       "    <tr>\n",
       "      <th>15</th>\n",
       "      <td>max fnr</td>\n",
       "      <td>0.982878</td>\n",
       "      <td>0.999228</td>\n",
       "      <td>0.0</td>\n",
       "    </tr>\n",
       "    <tr>\n",
       "      <th>16</th>\n",
       "      <td>max fpr</td>\n",
       "      <td>0.000278</td>\n",
       "      <td>1.000000</td>\n",
       "      <td>399.0</td>\n",
       "    </tr>\n",
       "    <tr>\n",
       "      <th>17</th>\n",
       "      <td>max tpr</td>\n",
       "      <td>0.003995</td>\n",
       "      <td>1.000000</td>\n",
       "      <td>390.0</td>\n",
       "    </tr>\n",
       "  </tbody>\n",
       "</table>\n",
       "</div>"
      ],
      "text/plain": [
       "                         metric  threshold        value    idx\n",
       "0                        max f1   0.277592     0.629556  218.0\n",
       "1                        max f2   0.117047     0.741915  292.0\n",
       "2                  max f0point5   0.400512     0.600905  174.0\n",
       "3                  max accuracy   0.510199     0.908670  136.0\n",
       "4                 max precision   0.982878     1.000000    0.0\n",
       "5                    max recall   0.003995     1.000000  390.0\n",
       "6               max specificity   0.982878     1.000000    0.0\n",
       "7              max absolute_mcc   0.214336     0.583931  246.0\n",
       "8    max min_per_class_accuracy   0.147484     0.867244  276.0\n",
       "9   max mean_per_class_accuracy   0.106327     0.874599  299.0\n",
       "10                      max tns   0.982878  9928.000000    0.0\n",
       "11                      max fns   0.982878  1294.000000    0.0\n",
       "12                      max fps   0.000278  9928.000000  399.0\n",
       "13                      max tps   0.003995  1295.000000  390.0\n",
       "14                      max tnr   0.982878     1.000000    0.0\n",
       "15                      max fnr   0.982878     0.999228    0.0\n",
       "16                      max fpr   0.000278     1.000000  399.0\n",
       "17                      max tpr   0.003995     1.000000  390.0"
      ]
     },
     "metadata": {},
     "output_type": "display_data"
    },
    {
     "name": "stdout",
     "output_type": "stream",
     "text": [
      "\n",
      "Gains/Lift Table: Avg response rate: 11.54 %, avg score: 11.60 %\n"
     ]
    },
    {
     "data": {
      "text/html": [
       "<div>\n",
       "<style scoped>\n",
       "    .dataframe tbody tr th:only-of-type {\n",
       "        vertical-align: middle;\n",
       "    }\n",
       "\n",
       "    .dataframe tbody tr th {\n",
       "        vertical-align: top;\n",
       "    }\n",
       "\n",
       "    .dataframe thead th {\n",
       "        text-align: right;\n",
       "    }\n",
       "</style>\n",
       "<table border=\"1\" class=\"dataframe\">\n",
       "  <thead>\n",
       "    <tr style=\"text-align: right;\">\n",
       "      <th></th>\n",
       "      <th>group</th>\n",
       "      <th>cumulative_data_fraction</th>\n",
       "      <th>lower_threshold</th>\n",
       "      <th>lift</th>\n",
       "      <th>cumulative_lift</th>\n",
       "      <th>response_rate</th>\n",
       "      <th>score</th>\n",
       "      <th>cumulative_response_rate</th>\n",
       "      <th>cumulative_score</th>\n",
       "      <th>capture_rate</th>\n",
       "      <th>cumulative_capture_rate</th>\n",
       "      <th>gain</th>\n",
       "      <th>cumulative_gain</th>\n",
       "      <th>kolmogorov_smirnov</th>\n",
       "    </tr>\n",
       "  </thead>\n",
       "  <tbody>\n",
       "    <tr>\n",
       "      <th>0</th>\n",
       "      <td>1</td>\n",
       "      <td>0.010069</td>\n",
       "      <td>0.887414</td>\n",
       "      <td>6.825756</td>\n",
       "      <td>6.825756</td>\n",
       "      <td>0.787611</td>\n",
       "      <td>0.922663</td>\n",
       "      <td>0.787611</td>\n",
       "      <td>0.922663</td>\n",
       "      <td>0.068726</td>\n",
       "      <td>0.068726</td>\n",
       "      <td>582.575597</td>\n",
       "      <td>582.575597</td>\n",
       "      <td>0.066308</td>\n",
       "    </tr>\n",
       "    <tr>\n",
       "      <th>1</th>\n",
       "      <td>2</td>\n",
       "      <td>0.020048</td>\n",
       "      <td>0.810789</td>\n",
       "      <td>6.112914</td>\n",
       "      <td>6.470919</td>\n",
       "      <td>0.705357</td>\n",
       "      <td>0.848946</td>\n",
       "      <td>0.746667</td>\n",
       "      <td>0.885968</td>\n",
       "      <td>0.061004</td>\n",
       "      <td>0.129730</td>\n",
       "      <td>511.291368</td>\n",
       "      <td>547.091892</td>\n",
       "      <td>0.123988</td>\n",
       "    </tr>\n",
       "    <tr>\n",
       "      <th>2</th>\n",
       "      <td>3</td>\n",
       "      <td>0.030028</td>\n",
       "      <td>0.742077</td>\n",
       "      <td>5.571263</td>\n",
       "      <td>6.171924</td>\n",
       "      <td>0.642857</td>\n",
       "      <td>0.773612</td>\n",
       "      <td>0.712166</td>\n",
       "      <td>0.848627</td>\n",
       "      <td>0.055598</td>\n",
       "      <td>0.185328</td>\n",
       "      <td>457.126310</td>\n",
       "      <td>517.192351</td>\n",
       "      <td>0.175558</td>\n",
       "    </tr>\n",
       "    <tr>\n",
       "      <th>3</th>\n",
       "      <td>4</td>\n",
       "      <td>0.040007</td>\n",
       "      <td>0.690057</td>\n",
       "      <td>5.648642</td>\n",
       "      <td>6.041394</td>\n",
       "      <td>0.651786</td>\n",
       "      <td>0.715845</td>\n",
       "      <td>0.697105</td>\n",
       "      <td>0.815506</td>\n",
       "      <td>0.056371</td>\n",
       "      <td>0.241699</td>\n",
       "      <td>464.864175</td>\n",
       "      <td>504.139443</td>\n",
       "      <td>0.228000</td>\n",
       "    </tr>\n",
       "    <tr>\n",
       "      <th>4</th>\n",
       "      <td>5</td>\n",
       "      <td>0.050076</td>\n",
       "      <td>0.649667</td>\n",
       "      <td>5.521960</td>\n",
       "      <td>5.936953</td>\n",
       "      <td>0.637168</td>\n",
       "      <td>0.670617</td>\n",
       "      <td>0.685053</td>\n",
       "      <td>0.786373</td>\n",
       "      <td>0.055598</td>\n",
       "      <td>0.297297</td>\n",
       "      <td>452.195989</td>\n",
       "      <td>493.695297</td>\n",
       "      <td>0.279469</td>\n",
       "    </tr>\n",
       "    <tr>\n",
       "      <th>5</th>\n",
       "      <td>6</td>\n",
       "      <td>0.100062</td>\n",
       "      <td>0.447021</td>\n",
       "      <td>4.742580</td>\n",
       "      <td>5.340298</td>\n",
       "      <td>0.547237</td>\n",
       "      <td>0.545913</td>\n",
       "      <td>0.616207</td>\n",
       "      <td>0.666250</td>\n",
       "      <td>0.237066</td>\n",
       "      <td>0.534363</td>\n",
       "      <td>374.258047</td>\n",
       "      <td>434.029850</td>\n",
       "      <td>0.490950</td>\n",
       "    </tr>\n",
       "    <tr>\n",
       "      <th>6</th>\n",
       "      <td>7</td>\n",
       "      <td>0.150049</td>\n",
       "      <td>0.286803</td>\n",
       "      <td>3.738451</td>\n",
       "      <td>4.806666</td>\n",
       "      <td>0.431373</td>\n",
       "      <td>0.363705</td>\n",
       "      <td>0.554632</td>\n",
       "      <td>0.565461</td>\n",
       "      <td>0.186873</td>\n",
       "      <td>0.721236</td>\n",
       "      <td>273.845106</td>\n",
       "      <td>380.666642</td>\n",
       "      <td>0.645692</td>\n",
       "    </tr>\n",
       "    <tr>\n",
       "      <th>7</th>\n",
       "      <td>8</td>\n",
       "      <td>0.200036</td>\n",
       "      <td>0.175344</td>\n",
       "      <td>2.301774</td>\n",
       "      <td>4.180722</td>\n",
       "      <td>0.265597</td>\n",
       "      <td>0.227005</td>\n",
       "      <td>0.482405</td>\n",
       "      <td>0.480885</td>\n",
       "      <td>0.115058</td>\n",
       "      <td>0.836293</td>\n",
       "      <td>130.177358</td>\n",
       "      <td>318.072215</td>\n",
       "      <td>0.719251</td>\n",
       "    </tr>\n",
       "    <tr>\n",
       "      <th>8</th>\n",
       "      <td>9</td>\n",
       "      <td>0.300009</td>\n",
       "      <td>0.066122</td>\n",
       "      <td>1.143163</td>\n",
       "      <td>3.168503</td>\n",
       "      <td>0.131907</td>\n",
       "      <td>0.111342</td>\n",
       "      <td>0.365607</td>\n",
       "      <td>0.357741</td>\n",
       "      <td>0.114286</td>\n",
       "      <td>0.950579</td>\n",
       "      <td>14.316272</td>\n",
       "      <td>216.850306</td>\n",
       "      <td>0.735430</td>\n",
       "    </tr>\n",
       "    <tr>\n",
       "      <th>9</th>\n",
       "      <td>10</td>\n",
       "      <td>0.399982</td>\n",
       "      <td>0.029676</td>\n",
       "      <td>0.332135</td>\n",
       "      <td>2.459569</td>\n",
       "      <td>0.038324</td>\n",
       "      <td>0.044415</td>\n",
       "      <td>0.283805</td>\n",
       "      <td>0.279427</td>\n",
       "      <td>0.033205</td>\n",
       "      <td>0.983784</td>\n",
       "      <td>-66.786489</td>\n",
       "      <td>145.956904</td>\n",
       "      <td>0.659952</td>\n",
       "    </tr>\n",
       "    <tr>\n",
       "      <th>10</th>\n",
       "      <td>11</td>\n",
       "      <td>0.500045</td>\n",
       "      <td>0.014791</td>\n",
       "      <td>0.100324</td>\n",
       "      <td>1.987468</td>\n",
       "      <td>0.011576</td>\n",
       "      <td>0.021154</td>\n",
       "      <td>0.229330</td>\n",
       "      <td>0.227744</td>\n",
       "      <td>0.010039</td>\n",
       "      <td>0.993822</td>\n",
       "      <td>-89.967647</td>\n",
       "      <td>98.746770</td>\n",
       "      <td>0.558186</td>\n",
       "    </tr>\n",
       "    <tr>\n",
       "      <th>11</th>\n",
       "      <td>12</td>\n",
       "      <td>0.600018</td>\n",
       "      <td>0.007538</td>\n",
       "      <td>0.030896</td>\n",
       "      <td>1.661469</td>\n",
       "      <td>0.003565</td>\n",
       "      <td>0.010754</td>\n",
       "      <td>0.191714</td>\n",
       "      <td>0.191590</td>\n",
       "      <td>0.003089</td>\n",
       "      <td>0.996911</td>\n",
       "      <td>-96.910371</td>\n",
       "      <td>66.146931</td>\n",
       "      <td>0.448664</td>\n",
       "    </tr>\n",
       "    <tr>\n",
       "      <th>12</th>\n",
       "      <td>13</td>\n",
       "      <td>0.699991</td>\n",
       "      <td>0.003772</td>\n",
       "      <td>0.030896</td>\n",
       "      <td>1.428590</td>\n",
       "      <td>0.003565</td>\n",
       "      <td>0.005440</td>\n",
       "      <td>0.164842</td>\n",
       "      <td>0.165004</td>\n",
       "      <td>0.003089</td>\n",
       "      <td>1.000000</td>\n",
       "      <td>-96.910371</td>\n",
       "      <td>42.858961</td>\n",
       "      <td>0.339142</td>\n",
       "    </tr>\n",
       "    <tr>\n",
       "      <th>13</th>\n",
       "      <td>14</td>\n",
       "      <td>0.799964</td>\n",
       "      <td>0.001939</td>\n",
       "      <td>0.000000</td>\n",
       "      <td>1.250056</td>\n",
       "      <td>0.000000</td>\n",
       "      <td>0.002768</td>\n",
       "      <td>0.144241</td>\n",
       "      <td>0.144729</td>\n",
       "      <td>0.000000</td>\n",
       "      <td>1.000000</td>\n",
       "      <td>-100.000000</td>\n",
       "      <td>25.005569</td>\n",
       "      <td>0.226128</td>\n",
       "    </tr>\n",
       "    <tr>\n",
       "      <th>14</th>\n",
       "      <td>15</td>\n",
       "      <td>0.899938</td>\n",
       "      <td>0.000811</td>\n",
       "      <td>0.000000</td>\n",
       "      <td>1.111188</td>\n",
       "      <td>0.000000</td>\n",
       "      <td>0.001335</td>\n",
       "      <td>0.128218</td>\n",
       "      <td>0.128799</td>\n",
       "      <td>0.000000</td>\n",
       "      <td>1.000000</td>\n",
       "      <td>-100.000000</td>\n",
       "      <td>11.118812</td>\n",
       "      <td>0.113114</td>\n",
       "    </tr>\n",
       "    <tr>\n",
       "      <th>15</th>\n",
       "      <td>16</td>\n",
       "      <td>1.000000</td>\n",
       "      <td>0.000040</td>\n",
       "      <td>0.000000</td>\n",
       "      <td>1.000000</td>\n",
       "      <td>0.000000</td>\n",
       "      <td>0.000418</td>\n",
       "      <td>0.115388</td>\n",
       "      <td>0.115953</td>\n",
       "      <td>0.000000</td>\n",
       "      <td>1.000000</td>\n",
       "      <td>-100.000000</td>\n",
       "      <td>0.000000</td>\n",
       "      <td>0.000000</td>\n",
       "    </tr>\n",
       "  </tbody>\n",
       "</table>\n",
       "</div>"
      ],
      "text/plain": [
       "    group  cumulative_data_fraction  lower_threshold      lift  \\\n",
       "0       1                  0.010069         0.887414  6.825756   \n",
       "1       2                  0.020048         0.810789  6.112914   \n",
       "2       3                  0.030028         0.742077  5.571263   \n",
       "3       4                  0.040007         0.690057  5.648642   \n",
       "4       5                  0.050076         0.649667  5.521960   \n",
       "5       6                  0.100062         0.447021  4.742580   \n",
       "6       7                  0.150049         0.286803  3.738451   \n",
       "7       8                  0.200036         0.175344  2.301774   \n",
       "8       9                  0.300009         0.066122  1.143163   \n",
       "9      10                  0.399982         0.029676  0.332135   \n",
       "10     11                  0.500045         0.014791  0.100324   \n",
       "11     12                  0.600018         0.007538  0.030896   \n",
       "12     13                  0.699991         0.003772  0.030896   \n",
       "13     14                  0.799964         0.001939  0.000000   \n",
       "14     15                  0.899938         0.000811  0.000000   \n",
       "15     16                  1.000000         0.000040  0.000000   \n",
       "\n",
       "    cumulative_lift  response_rate     score  cumulative_response_rate  \\\n",
       "0          6.825756       0.787611  0.922663                  0.787611   \n",
       "1          6.470919       0.705357  0.848946                  0.746667   \n",
       "2          6.171924       0.642857  0.773612                  0.712166   \n",
       "3          6.041394       0.651786  0.715845                  0.697105   \n",
       "4          5.936953       0.637168  0.670617                  0.685053   \n",
       "5          5.340298       0.547237  0.545913                  0.616207   \n",
       "6          4.806666       0.431373  0.363705                  0.554632   \n",
       "7          4.180722       0.265597  0.227005                  0.482405   \n",
       "8          3.168503       0.131907  0.111342                  0.365607   \n",
       "9          2.459569       0.038324  0.044415                  0.283805   \n",
       "10         1.987468       0.011576  0.021154                  0.229330   \n",
       "11         1.661469       0.003565  0.010754                  0.191714   \n",
       "12         1.428590       0.003565  0.005440                  0.164842   \n",
       "13         1.250056       0.000000  0.002768                  0.144241   \n",
       "14         1.111188       0.000000  0.001335                  0.128218   \n",
       "15         1.000000       0.000000  0.000418                  0.115388   \n",
       "\n",
       "    cumulative_score  capture_rate  cumulative_capture_rate        gain  \\\n",
       "0           0.922663      0.068726                 0.068726  582.575597   \n",
       "1           0.885968      0.061004                 0.129730  511.291368   \n",
       "2           0.848627      0.055598                 0.185328  457.126310   \n",
       "3           0.815506      0.056371                 0.241699  464.864175   \n",
       "4           0.786373      0.055598                 0.297297  452.195989   \n",
       "5           0.666250      0.237066                 0.534363  374.258047   \n",
       "6           0.565461      0.186873                 0.721236  273.845106   \n",
       "7           0.480885      0.115058                 0.836293  130.177358   \n",
       "8           0.357741      0.114286                 0.950579   14.316272   \n",
       "9           0.279427      0.033205                 0.983784  -66.786489   \n",
       "10          0.227744      0.010039                 0.993822  -89.967647   \n",
       "11          0.191590      0.003089                 0.996911  -96.910371   \n",
       "12          0.165004      0.003089                 1.000000  -96.910371   \n",
       "13          0.144729      0.000000                 1.000000 -100.000000   \n",
       "14          0.128799      0.000000                 1.000000 -100.000000   \n",
       "15          0.115953      0.000000                 1.000000 -100.000000   \n",
       "\n",
       "    cumulative_gain  kolmogorov_smirnov  \n",
       "0        582.575597            0.066308  \n",
       "1        547.091892            0.123988  \n",
       "2        517.192351            0.175558  \n",
       "3        504.139443            0.228000  \n",
       "4        493.695297            0.279469  \n",
       "5        434.029850            0.490950  \n",
       "6        380.666642            0.645692  \n",
       "7        318.072215            0.719251  \n",
       "8        216.850306            0.735430  \n",
       "9        145.956904            0.659952  \n",
       "10        98.746770            0.558186  \n",
       "11        66.146931            0.448664  \n",
       "12        42.858961            0.339142  \n",
       "13        25.005569            0.226128  \n",
       "14        11.118812            0.113114  \n",
       "15         0.000000            0.000000  "
      ]
     },
     "metadata": {},
     "output_type": "display_data"
    },
    {
     "name": "stdout",
     "output_type": "stream",
     "text": [
      "\n"
     ]
    },
    {
     "data": {
      "text/plain": []
     },
     "execution_count": 49,
     "metadata": {},
     "output_type": "execute_result"
    }
   ],
   "source": [
    "model.model_performance(test)"
   ]
  },
  {
   "cell_type": "code",
   "execution_count": 50,
   "metadata": {
    "ExecuteTime": {
     "end_time": "2020-10-29T10:18:22.055900Z",
     "start_time": "2020-10-29T10:18:21.657488Z"
    }
   },
   "outputs": [
    {
     "data": {
      "image/png": "[encoded data removed]",
      "text/plain": [
       "<Figure size 1008x720 with 1 Axes>"
      ]
     },
     "metadata": {
      "needs_background": "light"
     },
     "output_type": "display_data"
    }
   ],
   "source": [
    "model.varimp_plot(num_of_features=20)\n",
    "# model.varimp_plot?"
   ]
  },
  {
   "cell_type": "markdown",
   "metadata": {},
   "source": [
    " "
   ]
  }
 ],
 "metadata": {
  "hide_input": false,
  "kernelspec": {
   "display_name": "Python 3",
   "language": "python",
   "name": "python3"
  },
  "language_info": {
   "codemirror_mode": {
    "name": "ipython",
    "version": 3
   },
   "file_extension": ".py",
   "mimetype": "text/x-python",
   "name": "python",
   "nbconvert_exporter": "python",
   "pygments_lexer": "ipython3",
   "version": "3.7.3"
  },
  "toc": {
   "base_numbering": 1,
   "nav_menu": {},
   "number_sections": true,
   "sideBar": true,
   "skip_h1_title": false,
   "title_cell": "Table of Contents",
   "title_sidebar": "Contents",
   "toc_cell": false,
   "toc_position": {},
   "toc_section_display": true,
   "toc_window_display": false
  }
 },
 "nbformat": 4,
 "nbformat_minor": 4
}
